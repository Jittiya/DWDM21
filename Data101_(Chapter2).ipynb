{
  "nbformat": 4,
  "nbformat_minor": 0,
  "metadata": {
    "colab": {
      "name": "Data101 (Chapter2).ipynb",
      "provenance": [],
      "authorship_tag": "ABX9TyNq1GJGYsAnPOVXPON4lyHl",
      "include_colab_link": true
    },
    "kernelspec": {
      "name": "python3",
      "display_name": "Python 3"
    },
    "language_info": {
      "name": "python"
    }
  },
  "cells": [
    {
      "cell_type": "markdown",
      "metadata": {
        "id": "view-in-github",
        "colab_type": "text"
      },
      "source": [
        "<a href=\"https://colab.research.google.com/github/Jittiya/DWDM21/blob/main/Data101_(Chapter2).ipynb\" target=\"_parent\"><img src=\"https://colab.research.google.com/assets/colab-badge.svg\" alt=\"Open In Colab\"/></a>"
      ]
    },
    {
      "cell_type": "markdown",
      "metadata": {
        "id": "mY7zoM8S0CVN"
      },
      "source": [
        "ข้อความที่อยู่ใน Textbox จะเป็นภาษา markdown"
      ]
    },
    {
      "cell_type": "markdown",
      "metadata": {
        "id": "MIYllvGyt6Z-"
      },
      "source": [
        "ข้อดีหนึ่งของ Python คือี package สำหรับการทำงานต่างๆมากมาย\n",
        "\n",
        "ซึ่ง pandas เป็น package สำหรับการทำงานกับข้อมูลที่อยู่ในรูปแบบตาราง\n",
        "\n",
        "โดย pandas จะเรียกตารางนั้นว่า dataframe"
      ]
    },
    {
      "cell_type": "code",
      "metadata": {
        "id": "L1EKAgpmsXh-"
      },
      "source": [
        "import pandas  #เรียกใช้ package โดยการ import ต่อด้วยชื่อ package"
      ],
      "execution_count": 5,
      "outputs": []
    },
    {
      "cell_type": "code",
      "metadata": {
        "id": "d7fgc_UEtOrn"
      },
      "source": [
        "import pandas as pd  #เป็นการ import เหมือนกัน แต่เปลี่ยนการตั้งชื่อให้ package ที่โหลดมาใหม่ว่า pd"
      ],
      "execution_count": 6,
      "outputs": []
    },
    {
      "cell_type": "markdown",
      "metadata": {
        "id": "flActA3Nu7Dj"
      },
      "source": [
        "ไฟล์ .csv (CSV = comma separated values) เป็นไฟล์หลักที่จะต้องใช้ในวิชานี้\n",
        "\n"
      ]
    },
    {
      "cell_type": "code",
      "metadata": {
        "id": "iBpf-8BjuryQ"
      },
      "source": [
        "data_df = pd.read_csv('data.csv')    #ใช้คำสั่งเพื่อนำ data เข้ามา"
      ],
      "execution_count": 7,
      "outputs": []
    },
    {
      "cell_type": "code",
      "metadata": {
        "colab": {
          "base_uri": "https://localhost:8080/",
          "height": 142
        },
        "id": "jGZENUloxb5H",
        "outputId": "8089ce51-d0cb-4f46-cfba-dc21e876eba6"
      },
      "source": [
        "data_df   #เรียกดู data"
      ],
      "execution_count": 8,
      "outputs": [
        {
          "output_type": "execute_result",
          "data": {
            "text/html": [
              "<div>\n",
              "<style scoped>\n",
              "    .dataframe tbody tr th:only-of-type {\n",
              "        vertical-align: middle;\n",
              "    }\n",
              "\n",
              "    .dataframe tbody tr th {\n",
              "        vertical-align: top;\n",
              "    }\n",
              "\n",
              "    .dataframe thead th {\n",
              "        text-align: right;\n",
              "    }\n",
              "</style>\n",
              "<table border=\"1\" class=\"dataframe\">\n",
              "  <thead>\n",
              "    <tr style=\"text-align: right;\">\n",
              "      <th></th>\n",
              "      <th>name</th>\n",
              "      <th>age</th>\n",
              "      <th>city</th>\n",
              "    </tr>\n",
              "  </thead>\n",
              "  <tbody>\n",
              "    <tr>\n",
              "      <th>0</th>\n",
              "      <td>0\\tTom</td>\n",
              "      <td>27</td>\n",
              "      <td>Khon Kaen</td>\n",
              "    </tr>\n",
              "    <tr>\n",
              "      <th>1</th>\n",
              "      <td>1\\tPaul\\t15</td>\n",
              "      <td>Bangkok</td>\n",
              "      <td>NaN</td>\n",
              "    </tr>\n",
              "    <tr>\n",
              "      <th>2</th>\n",
              "      <td>2\\tSarah\\t49</td>\n",
              "      <td>London</td>\n",
              "      <td>NaN</td>\n",
              "    </tr>\n",
              "  </tbody>\n",
              "</table>\n",
              "</div>"
            ],
            "text/plain": [
              "           name      age       city\n",
              "0        0\\tTom       27  Khon Kaen\n",
              "1   1\\tPaul\\t15  Bangkok        NaN\n",
              "2  2\\tSarah\\t49   London        NaN"
            ]
          },
          "metadata": {
            "tags": []
          },
          "execution_count": 8
        }
      ]
    },
    {
      "cell_type": "code",
      "metadata": {
        "colab": {
          "base_uri": "https://localhost:8080/",
          "height": 142
        },
        "id": "aV_1sh7IxdpO",
        "outputId": "1f960d52-7585-4f3f-b70f-11d0d7c5976d"
      },
      "source": [
        "data_df2 = pandas.read_csv('data.csv')\n",
        "data_df2"
      ],
      "execution_count": 9,
      "outputs": [
        {
          "output_type": "execute_result",
          "data": {
            "text/html": [
              "<div>\n",
              "<style scoped>\n",
              "    .dataframe tbody tr th:only-of-type {\n",
              "        vertical-align: middle;\n",
              "    }\n",
              "\n",
              "    .dataframe tbody tr th {\n",
              "        vertical-align: top;\n",
              "    }\n",
              "\n",
              "    .dataframe thead th {\n",
              "        text-align: right;\n",
              "    }\n",
              "</style>\n",
              "<table border=\"1\" class=\"dataframe\">\n",
              "  <thead>\n",
              "    <tr style=\"text-align: right;\">\n",
              "      <th></th>\n",
              "      <th>name</th>\n",
              "      <th>age</th>\n",
              "      <th>city</th>\n",
              "    </tr>\n",
              "  </thead>\n",
              "  <tbody>\n",
              "    <tr>\n",
              "      <th>0</th>\n",
              "      <td>0\\tTom</td>\n",
              "      <td>27</td>\n",
              "      <td>Khon Kaen</td>\n",
              "    </tr>\n",
              "    <tr>\n",
              "      <th>1</th>\n",
              "      <td>1\\tPaul\\t15</td>\n",
              "      <td>Bangkok</td>\n",
              "      <td>NaN</td>\n",
              "    </tr>\n",
              "    <tr>\n",
              "      <th>2</th>\n",
              "      <td>2\\tSarah\\t49</td>\n",
              "      <td>London</td>\n",
              "      <td>NaN</td>\n",
              "    </tr>\n",
              "  </tbody>\n",
              "</table>\n",
              "</div>"
            ],
            "text/plain": [
              "           name      age       city\n",
              "0        0\\tTom       27  Khon Kaen\n",
              "1   1\\tPaul\\t15  Bangkok        NaN\n",
              "2  2\\tSarah\\t49   London        NaN"
            ]
          },
          "metadata": {
            "tags": []
          },
          "execution_count": 9
        }
      ]
    },
    {
      "cell_type": "markdown",
      "metadata": {
        "id": "V-6qjLTBy0Ri"
      },
      "source": [
        "# Basic Python\n",
        "##variable"
      ]
    },
    {
      "cell_type": "markdown",
      "metadata": {
        "id": "jVeoZHqm1yzg"
      },
      "source": [
        "ข้อกำหนดในการตั้งชื่อตัวแปร\n",
        "\n",
        "1. ชื่อห้ามมีเว้นวรรค\n",
        "2. (พยายาม)ใช้ภาษาอังกฤษ\n",
        "3. ตัวเล็กตัวใหญ่แตกต่างกัน (case sensitive)\n",
        "4. ห้ามใช้ตัวเลขเป็นตัวหน้า"
      ]
    },
    {
      "cell_type": "code",
      "metadata": {
        "id": "jCQcNyocyfNG"
      },
      "source": [
        "variable_a = 12          #สร้างตัวแปลใส่เลข 12 แบบไม่มี quote จะเป็นตัวเลข\n",
        "variable_b = 'abcde'   # ' เรียกว่า quote\n",
        "variable_c = variable_a   #ค่าของ variable_c เท่่ากับ ค่าของ variable_a"
      ],
      "execution_count": 10,
      "outputs": []
    },
    {
      "cell_type": "code",
      "metadata": {
        "colab": {
          "base_uri": "https://localhost:8080/"
        },
        "id": "g4wv0CdU0ulA",
        "outputId": "73a04d5f-8467-4d83-9877-f24e297d1c47"
      },
      "source": [
        "variable_a"
      ],
      "execution_count": 11,
      "outputs": [
        {
          "output_type": "execute_result",
          "data": {
            "text/plain": [
              "12"
            ]
          },
          "metadata": {
            "tags": []
          },
          "execution_count": 11
        }
      ]
    },
    {
      "cell_type": "code",
      "metadata": {
        "colab": {
          "base_uri": "https://localhost:8080/",
          "height": 34
        },
        "id": "gfbmILDW1ZNF",
        "outputId": "03633571-ad94-4601-fbc5-270457f03caf"
      },
      "source": [
        "variable_b"
      ],
      "execution_count": 12,
      "outputs": [
        {
          "output_type": "execute_result",
          "data": {
            "application/vnd.google.colaboratory.intrinsic+json": {
              "type": "string"
            },
            "text/plain": [
              "'abcde'"
            ]
          },
          "metadata": {
            "tags": []
          },
          "execution_count": 12
        }
      ]
    },
    {
      "cell_type": "code",
      "metadata": {
        "colab": {
          "base_uri": "https://localhost:8080/"
        },
        "id": "ZDpOT7Lu1qSX",
        "outputId": "7194e5ed-1485-45c3-d6ae-f3a5e18c2bc3"
      },
      "source": [
        "variable_c"
      ],
      "execution_count": 13,
      "outputs": [
        {
          "output_type": "execute_result",
          "data": {
            "text/plain": [
              "12"
            ]
          },
          "metadata": {
            "tags": []
          },
          "execution_count": 13
        }
      ]
    },
    {
      "cell_type": "code",
      "metadata": {
        "colab": {
          "base_uri": "https://localhost:8080/",
          "height": 130
        },
        "id": "fax7ORZT1sQn",
        "outputId": "cc169379-4061-4440-ae29-a3fea29a43e6"
      },
      "source": [
        "# ชื่อห้ามมีเว้นวรรค\n",
        "variable a = 6"
      ],
      "execution_count": 14,
      "outputs": [
        {
          "output_type": "error",
          "ename": "SyntaxError",
          "evalue": "ignored",
          "traceback": [
            "\u001b[0;36m  File \u001b[0;32m\"<ipython-input-14-126f7ab49866>\"\u001b[0;36m, line \u001b[0;32m2\u001b[0m\n\u001b[0;31m    variable a = 6\u001b[0m\n\u001b[0m             ^\u001b[0m\n\u001b[0;31mSyntaxError\u001b[0m\u001b[0;31m:\u001b[0m invalid syntax\n"
          ]
        }
      ]
    },
    {
      "cell_type": "code",
      "metadata": {
        "id": "9dBZ5cCN2Vkr"
      },
      "source": [
        "# พยายามใช้ภาษาอังกฤษ\n",
        "# colab ใช้ภาษาไทยเป็นชื่อตัวแปรได้แต่ไม่ควรใช้\n",
        "ตัวแปร = 3           \n",
        "ตัวแปร"
      ],
      "execution_count": null,
      "outputs": []
    },
    {
      "cell_type": "code",
      "metadata": {
        "id": "fgrVK56f2dW8"
      },
      "source": [
        "# ตัวเล็กกับตัวใหญ่ต่างกัน (case sensitive)\n",
        "v_a = 1\n",
        "V_a = 2\n",
        "print(v_a)\n",
        "print(V_a)"
      ],
      "execution_count": null,
      "outputs": []
    },
    {
      "cell_type": "code",
      "metadata": {
        "id": "T7XxLMaQ3DqD"
      },
      "source": [
        "# ห้ามใช้ตัวเลขเป็นตัวหน้า\n",
        "2 = 1"
      ],
      "execution_count": null,
      "outputs": []
    },
    {
      "cell_type": "code",
      "metadata": {
        "id": "mjCTJexM34i5"
      },
      "source": [
        "# ห้ามใช้ตัวเลขเป็นตัวหน้า\n",
        "2ab = 1"
      ],
      "execution_count": null,
      "outputs": []
    },
    {
      "cell_type": "code",
      "metadata": {
        "id": "_9V1gtfb4Agd"
      },
      "source": [
        "# ห้ามใช้ตัวเลขเป็นตัวหน้า\n",
        "variable = 1"
      ],
      "execution_count": null,
      "outputs": []
    },
    {
      "cell_type": "code",
      "metadata": {
        "colab": {
          "base_uri": "https://localhost:8080/",
          "height": 164
        },
        "id": "K4EQwFub4EXn",
        "outputId": "25d3e681-e9e9-4f38-996f-f5eb5345ad0c"
      },
      "source": [
        "print(variable)"
      ],
      "execution_count": 15,
      "outputs": [
        {
          "output_type": "error",
          "ename": "NameError",
          "evalue": "ignored",
          "traceback": [
            "\u001b[0;31m---------------------------------------------------------------------------\u001b[0m",
            "\u001b[0;31mNameError\u001b[0m                                 Traceback (most recent call last)",
            "\u001b[0;32m<ipython-input-15-503d059fc525>\u001b[0m in \u001b[0;36m<module>\u001b[0;34m()\u001b[0m\n\u001b[0;32m----> 1\u001b[0;31m \u001b[0mprint\u001b[0m\u001b[0;34m(\u001b[0m\u001b[0mvariable\u001b[0m\u001b[0;34m)\u001b[0m\u001b[0;34m\u001b[0m\u001b[0;34m\u001b[0m\u001b[0m\n\u001b[0m",
            "\u001b[0;31mNameError\u001b[0m: name 'variable' is not defined"
          ]
        }
      ]
    },
    {
      "cell_type": "code",
      "metadata": {
        "id": "DXTJYxeq4Gak"
      },
      "source": [
        "variable_a = 12          #สร้างตัวแปลใส่เลข 12 แบบไม่มี quote จะเป็นตัวเลข\n",
        "variable_b = 'abcde'   # ' เรียกว่า quote\n",
        "variable_c = variable_a   #ค่าของ variable_c เท่่ากับ ค่าของ variable_a\n",
        "variable_d = -41.2\n",
        "variable_4 = \"KKU\"  # \" เรียกว่า double quote"
      ],
      "execution_count": 16,
      "outputs": []
    },
    {
      "cell_type": "code",
      "metadata": {
        "id": "E1dE4Q9k4r6Y",
        "colab": {
          "base_uri": "https://localhost:8080/"
        },
        "outputId": "839e61a9-06a0-4c39-9560-8c8238c6e320"
      },
      "source": [
        "variable_x =  variable_c + variable_d\n",
        "print(variable_x)"
      ],
      "execution_count": 17,
      "outputs": [
        {
          "output_type": "stream",
          "text": [
            "-29.200000000000003\n"
          ],
          "name": "stdout"
        }
      ]
    },
    {
      "cell_type": "code",
      "metadata": {
        "id": "Y-dl3slk46iT",
        "colab": {
          "base_uri": "https://localhost:8080/"
        },
        "outputId": "c72e2f3d-ee15-4689-db28-697d3c490c57"
      },
      "source": [
        "variable_x"
      ],
      "execution_count": 18,
      "outputs": [
        {
          "output_type": "execute_result",
          "data": {
            "text/plain": [
              "-29.200000000000003"
            ]
          },
          "metadata": {
            "tags": []
          },
          "execution_count": 18
        }
      ]
    },
    {
      "cell_type": "code",
      "metadata": {
        "colab": {
          "base_uri": "https://localhost:8080/",
          "height": 164
        },
        "id": "HQdtVR5J5AK1",
        "outputId": "e37149f2-6ad6-484f-afd4-1dfd164b4877"
      },
      "source": [
        "variable_a + variable_b"
      ],
      "execution_count": 19,
      "outputs": [
        {
          "output_type": "error",
          "ename": "TypeError",
          "evalue": "ignored",
          "traceback": [
            "\u001b[0;31m---------------------------------------------------------------------------\u001b[0m",
            "\u001b[0;31mTypeError\u001b[0m                                 Traceback (most recent call last)",
            "\u001b[0;32m<ipython-input-19-ca279e5cd267>\u001b[0m in \u001b[0;36m<module>\u001b[0;34m()\u001b[0m\n\u001b[0;32m----> 1\u001b[0;31m \u001b[0mvariable_a\u001b[0m \u001b[0;34m+\u001b[0m \u001b[0mvariable_b\u001b[0m\u001b[0;34m\u001b[0m\u001b[0;34m\u001b[0m\u001b[0m\n\u001b[0m",
            "\u001b[0;31mTypeError\u001b[0m: unsupported operand type(s) for +: 'int' and 'str'"
          ]
        }
      ]
    },
    {
      "cell_type": "code",
      "metadata": {
        "id": "0wY586Ny6Zpa",
        "colab": {
          "base_uri": "https://localhost:8080/"
        },
        "outputId": "2f633925-0e37-4714-e04d-679040509adf"
      },
      "source": [
        "print(variable_b + variable_4)  # print สามารถพิมพ์อะไรก็ได้ลงไปใน ()"
      ],
      "execution_count": 20,
      "outputs": [
        {
          "output_type": "stream",
          "text": [
            "abcdeKKU\n"
          ],
          "name": "stdout"
        }
      ]
    },
    {
      "cell_type": "markdown",
      "metadata": {
        "id": "5-Yq5iBh7PZ0"
      },
      "source": [
        "# Casting int() str()\n",
        "\n",
        "- เปลี่ยนชนิดของตัวแปรได้"
      ]
    },
    {
      "cell_type": "code",
      "metadata": {
        "colab": {
          "base_uri": "https://localhost:8080/"
        },
        "id": "nZbwQiBa6xqe",
        "outputId": "850889c9-49a1-46f8-df06-33f1346835dd"
      },
      "source": [
        "print(variable_x)            # เปลี่ยนให้เป็นจำนวนเต็ม ตอนแรกเป็น float เป็น int\n",
        "print(int(variable_x))"
      ],
      "execution_count": 21,
      "outputs": [
        {
          "output_type": "stream",
          "text": [
            "-29.200000000000003\n",
            "-29\n"
          ],
          "name": "stdout"
        }
      ]
    },
    {
      "cell_type": "code",
      "metadata": {
        "id": "2KcTkHkC7m-Q",
        "colab": {
          "base_uri": "https://localhost:8080/"
        },
        "outputId": "e994253a-5fa1-428d-abdf-02fadba363b2"
      },
      "source": [
        "V_X = str(variable_x)\n",
        "print(V_X)"
      ],
      "execution_count": 22,
      "outputs": [
        {
          "output_type": "stream",
          "text": [
            "-29.200000000000003\n"
          ],
          "name": "stdout"
        }
      ]
    },
    {
      "cell_type": "code",
      "metadata": {
        "colab": {
          "base_uri": "https://localhost:8080/",
          "height": 164
        },
        "id": "Zbi9lXrT8ELu",
        "outputId": "b1988f2c-2ec6-4da5-e23a-859bfa3f457c"
      },
      "source": [
        "V_X + variable_a"
      ],
      "execution_count": 23,
      "outputs": [
        {
          "output_type": "error",
          "ename": "TypeError",
          "evalue": "ignored",
          "traceback": [
            "\u001b[0;31m---------------------------------------------------------------------------\u001b[0m",
            "\u001b[0;31mTypeError\u001b[0m                                 Traceback (most recent call last)",
            "\u001b[0;32m<ipython-input-23-d83c0918f5c6>\u001b[0m in \u001b[0;36m<module>\u001b[0;34m()\u001b[0m\n\u001b[0;32m----> 1\u001b[0;31m \u001b[0mV_X\u001b[0m \u001b[0;34m+\u001b[0m \u001b[0mvariable_a\u001b[0m\u001b[0;34m\u001b[0m\u001b[0;34m\u001b[0m\u001b[0m\n\u001b[0m",
            "\u001b[0;31mTypeError\u001b[0m: can only concatenate str (not \"int\") to str"
          ]
        }
      ]
    },
    {
      "cell_type": "code",
      "metadata": {
        "id": "Lws0dfj28HiH",
        "colab": {
          "base_uri": "https://localhost:8080/",
          "height": 164
        },
        "outputId": "8be1c3c6-daa9-43d1-f3c4-0c5f98de5fe4"
      },
      "source": [
        "variable_a + V_X"
      ],
      "execution_count": 24,
      "outputs": [
        {
          "output_type": "error",
          "ename": "TypeError",
          "evalue": "ignored",
          "traceback": [
            "\u001b[0;31m---------------------------------------------------------------------------\u001b[0m",
            "\u001b[0;31mTypeError\u001b[0m                                 Traceback (most recent call last)",
            "\u001b[0;32m<ipython-input-24-9c7fa6bc8848>\u001b[0m in \u001b[0;36m<module>\u001b[0;34m()\u001b[0m\n\u001b[0;32m----> 1\u001b[0;31m \u001b[0mvariable_a\u001b[0m \u001b[0;34m+\u001b[0m \u001b[0mV_X\u001b[0m\u001b[0;34m\u001b[0m\u001b[0;34m\u001b[0m\u001b[0m\n\u001b[0m",
            "\u001b[0;31mTypeError\u001b[0m: unsupported operand type(s) for +: 'int' and 'str'"
          ]
        }
      ]
    },
    {
      "cell_type": "code",
      "metadata": {
        "id": "zYcN2xfw8LpB"
      },
      "source": [
        "V_X "
      ],
      "execution_count": null,
      "outputs": []
    },
    {
      "cell_type": "code",
      "metadata": {
        "colab": {
          "base_uri": "https://localhost:8080/"
        },
        "id": "rEDBTPRX8llR",
        "outputId": "5e10e892-27d6-45b9-d3d7-eb98c391e8fb"
      },
      "source": [
        "float(V_X)"
      ],
      "execution_count": 25,
      "outputs": [
        {
          "output_type": "execute_result",
          "data": {
            "text/plain": [
              "-29.200000000000003"
            ]
          },
          "metadata": {
            "tags": []
          },
          "execution_count": 25
        }
      ]
    },
    {
      "cell_type": "markdown",
      "metadata": {
        "id": "wNxPjGp79DUl"
      },
      "source": [
        "## Data Structure\n",
        "### list()"
      ]
    },
    {
      "cell_type": "code",
      "metadata": {
        "id": "suwgFEOm80GT"
      },
      "source": [
        "list_a = [1,2,0.2,'abs' ]  # [ ] square brackets\n",
        "list_b = [2,'xyz',list_a,[1,2,0.0]]"
      ],
      "execution_count": 26,
      "outputs": []
    },
    {
      "cell_type": "code",
      "metadata": {
        "colab": {
          "base_uri": "https://localhost:8080/"
        },
        "id": "Xkd2roSh-Ely",
        "outputId": "41e5470a-b8dd-4eed-c72e-78e010fd62f7"
      },
      "source": [
        "list_a"
      ],
      "execution_count": 27,
      "outputs": [
        {
          "output_type": "execute_result",
          "data": {
            "text/plain": [
              "[1, 2, 0.2, 'abs']"
            ]
          },
          "metadata": {
            "tags": []
          },
          "execution_count": 27
        }
      ]
    },
    {
      "cell_type": "code",
      "metadata": {
        "colab": {
          "base_uri": "https://localhost:8080/"
        },
        "id": "wgG-cpY--Glb",
        "outputId": "8817517e-7d40-45fa-8406-5c4c47ab8ec6"
      },
      "source": [
        "list_b"
      ],
      "execution_count": 28,
      "outputs": [
        {
          "output_type": "execute_result",
          "data": {
            "text/plain": [
              "[2, 'xyz', [1, 2, 0.2, 'abs'], [1, 2, 0.0]]"
            ]
          },
          "metadata": {
            "tags": []
          },
          "execution_count": 28
        }
      ]
    },
    {
      "cell_type": "code",
      "metadata": {
        "colab": {
          "base_uri": "https://localhost:8080/"
        },
        "id": "ky2JOPu_-c1q",
        "outputId": "1a707c62-368c-41a5-f764-27ba175d4c49"
      },
      "source": [
        "len(list_b)   # ดูว่าใน list_b มีสมาชิกกี่ตัว"
      ],
      "execution_count": 29,
      "outputs": [
        {
          "output_type": "execute_result",
          "data": {
            "text/plain": [
              "4"
            ]
          },
          "metadata": {
            "tags": []
          },
          "execution_count": 29
        }
      ]
    },
    {
      "cell_type": "code",
      "metadata": {
        "colab": {
          "base_uri": "https://localhost:8080/"
        },
        "id": "KoG7FUtW-ghh",
        "outputId": "01837b4a-9293-4000-d950-d8c5470653a4"
      },
      "source": [
        "list_b[3]"
      ],
      "execution_count": 30,
      "outputs": [
        {
          "output_type": "execute_result",
          "data": {
            "text/plain": [
              "[1, 2, 0.0]"
            ]
          },
          "metadata": {
            "tags": []
          },
          "execution_count": 30
        }
      ]
    },
    {
      "cell_type": "code",
      "metadata": {
        "colab": {
          "base_uri": "https://localhost:8080/"
        },
        "id": "yyaZE8nF-rjW",
        "outputId": "8d55a98f-be0d-4c1d-dfb2-d016c224f570"
      },
      "source": [
        "list_b[3][1]"
      ],
      "execution_count": 31,
      "outputs": [
        {
          "output_type": "execute_result",
          "data": {
            "text/plain": [
              "2"
            ]
          },
          "metadata": {
            "tags": []
          },
          "execution_count": 31
        }
      ]
    },
    {
      "cell_type": "markdown",
      "metadata": {
        "id": "ZWvYUMdM_HvM"
      },
      "source": [
        "string คือ list ของตัวหนังสือ"
      ]
    },
    {
      "cell_type": "code",
      "metadata": {
        "id": "nPFdQnCj-z6S"
      },
      "source": [
        "a = 'Stat KKU'"
      ],
      "execution_count": 32,
      "outputs": []
    },
    {
      "cell_type": "code",
      "metadata": {
        "colab": {
          "base_uri": "https://localhost:8080/",
          "height": 34
        },
        "id": "vjsZpLAZ_RvJ",
        "outputId": "6cd113cd-b893-4e8d-ac9e-c0fafff12cf1"
      },
      "source": [
        "a[4]"
      ],
      "execution_count": 33,
      "outputs": [
        {
          "output_type": "execute_result",
          "data": {
            "application/vnd.google.colaboratory.intrinsic+json": {
              "type": "string"
            },
            "text/plain": [
              "' '"
            ]
          },
          "metadata": {
            "tags": []
          },
          "execution_count": 33
        }
      ]
    },
    {
      "cell_type": "markdown",
      "metadata": {
        "id": "e6sVKcOG_yUq"
      },
      "source": [
        "# วิธีการสร้าง list ว่าง"
      ]
    },
    {
      "cell_type": "code",
      "metadata": {
        "id": "PhWogOv7_VKS"
      },
      "source": [
        "list_c = list()  #แบบที่ 1\n",
        "list_d = []      #แบบที่ 2"
      ],
      "execution_count": 34,
      "outputs": []
    },
    {
      "cell_type": "code",
      "metadata": {
        "colab": {
          "base_uri": "https://localhost:8080/"
        },
        "id": "zTl8w5ByAFNp",
        "outputId": "794c24fd-0a79-430e-cb93-29f3759b45cc"
      },
      "source": [
        "list_c"
      ],
      "execution_count": 35,
      "outputs": [
        {
          "output_type": "execute_result",
          "data": {
            "text/plain": [
              "[]"
            ]
          },
          "metadata": {
            "tags": []
          },
          "execution_count": 35
        }
      ]
    },
    {
      "cell_type": "code",
      "metadata": {
        "colab": {
          "base_uri": "https://localhost:8080/"
        },
        "id": "pt_q-hjIAHCG",
        "outputId": "a7fe35fb-880e-4798-d2be-a4e38a3c24d8"
      },
      "source": [
        "list_d"
      ],
      "execution_count": 36,
      "outputs": [
        {
          "output_type": "execute_result",
          "data": {
            "text/plain": [
              "[]"
            ]
          },
          "metadata": {
            "tags": []
          },
          "execution_count": 36
        }
      ]
    },
    {
      "cell_type": "markdown",
      "metadata": {
        "id": "OPTQMYoXAqil"
      },
      "source": [
        "- เติมค่าลงไปใน list (.append())"
      ]
    },
    {
      "cell_type": "code",
      "metadata": {
        "id": "X9-X0oiwAI-W"
      },
      "source": [
        "list_d.append('a')"
      ],
      "execution_count": 37,
      "outputs": []
    },
    {
      "cell_type": "code",
      "metadata": {
        "colab": {
          "base_uri": "https://localhost:8080/"
        },
        "id": "6Twl18WZA432",
        "outputId": "5d307911-224b-4666-9449-e3dc1c8a14fd"
      },
      "source": [
        "list_d"
      ],
      "execution_count": 38,
      "outputs": [
        {
          "output_type": "execute_result",
          "data": {
            "text/plain": [
              "['a']"
            ]
          },
          "metadata": {
            "tags": []
          },
          "execution_count": 38
        }
      ]
    },
    {
      "cell_type": "code",
      "metadata": {
        "id": "udpXQaMpA6Sm"
      },
      "source": [
        "list_d.append(56)"
      ],
      "execution_count": 39,
      "outputs": []
    },
    {
      "cell_type": "code",
      "metadata": {
        "colab": {
          "base_uri": "https://localhost:8080/"
        },
        "id": "G7ADR9VmBB5-",
        "outputId": "525bb7c9-aaa8-4af7-fec8-6465958d3e10"
      },
      "source": [
        "list_d"
      ],
      "execution_count": 40,
      "outputs": [
        {
          "output_type": "execute_result",
          "data": {
            "text/plain": [
              "['a', 56]"
            ]
          },
          "metadata": {
            "tags": []
          },
          "execution_count": 40
        }
      ]
    },
    {
      "cell_type": "markdown",
      "metadata": {
        "id": "-grZqRNdBQw0"
      },
      "source": [
        "### การชี้ค่าใน list (indexing)\n",
        "\n",
        "1. ใช้ลำดับในการชี้\n",
        "2. ลำดับเริ่มจาก 0\n",
        "3. สามารถชี้จากข้างหลังได้โดยใช้ negative index"
      ]
    },
    {
      "cell_type": "code",
      "metadata": {
        "colab": {
          "base_uri": "https://localhost:8080/"
        },
        "id": "_HM9XWKTBDFy",
        "outputId": "76e66975-94df-4e55-8949-23a70a09a226"
      },
      "source": [
        "list_b"
      ],
      "execution_count": 41,
      "outputs": [
        {
          "output_type": "execute_result",
          "data": {
            "text/plain": [
              "[2, 'xyz', [1, 2, 0.2, 'abs'], [1, 2, 0.0]]"
            ]
          },
          "metadata": {
            "tags": []
          },
          "execution_count": 41
        }
      ]
    },
    {
      "cell_type": "code",
      "metadata": {
        "colab": {
          "base_uri": "https://localhost:8080/"
        },
        "id": "wR1Cq0wUBp4r",
        "outputId": "ca89e2e5-bc7e-4a18-d550-4a3377878460"
      },
      "source": [
        "list_b[-1]   #ชี้ค่าข้างหลังสุด"
      ],
      "execution_count": 42,
      "outputs": [
        {
          "output_type": "execute_result",
          "data": {
            "text/plain": [
              "[1, 2, 0.0]"
            ]
          },
          "metadata": {
            "tags": []
          },
          "execution_count": 42
        }
      ]
    },
    {
      "cell_type": "markdown",
      "metadata": {
        "id": "D810-ge9Cf07"
      },
      "source": [
        "## list slicing\n",
        "เราจะตัด list โดยเอาตั้งแต่ [ตัวหน้า: ตัวก่อนตัวหลัง] \\\n",
        "ถ้าเป็นสัญลักษณ์คณิตศาสตร์ [ตัวหน้า:ตัวหลัง] -> [ตัวหน้า,ตัวหลัง]"
      ]
    },
    {
      "cell_type": "code",
      "metadata": {
        "id": "wUVBJpzbBvif"
      },
      "source": [
        "list_ex = [1,2,3,5,6,8,-1,20,50,0]"
      ],
      "execution_count": 43,
      "outputs": []
    },
    {
      "cell_type": "code",
      "metadata": {
        "colab": {
          "base_uri": "https://localhost:8080/"
        },
        "id": "K_4gog6dCtWr",
        "outputId": "e2bc18f7-40d0-4e5c-d080-069672d9e991"
      },
      "source": [
        "list_ex[1:6]   # : สัญลักษณ์ของ slicing\n",
        "                   # เราจะตัด list โดยเอาตั้งแต่ [ตัวหน้า: ตัวก่อนตัวหลัง]"
      ],
      "execution_count": 44,
      "outputs": [
        {
          "output_type": "execute_result",
          "data": {
            "text/plain": [
              "[2, 3, 5, 6, 8]"
            ]
          },
          "metadata": {
            "tags": []
          },
          "execution_count": 44
        }
      ]
    },
    {
      "cell_type": "code",
      "metadata": {
        "colab": {
          "base_uri": "https://localhost:8080/"
        },
        "id": "c3BUCFLxCxhZ",
        "outputId": "941d0171-25f7-41b1-c231-4c72326114e7"
      },
      "source": [
        "list_ex[4:]"
      ],
      "execution_count": 45,
      "outputs": [
        {
          "output_type": "execute_result",
          "data": {
            "text/plain": [
              "[6, 8, -1, 20, 50, 0]"
            ]
          },
          "metadata": {
            "tags": []
          },
          "execution_count": 45
        }
      ]
    },
    {
      "cell_type": "code",
      "metadata": {
        "colab": {
          "base_uri": "https://localhost:8080/"
        },
        "id": "hZPhkTHED0mW",
        "outputId": "549c4367-ad68-42d0-ddf6-57d2e8573ea3"
      },
      "source": [
        "list_ex[:6]"
      ],
      "execution_count": 46,
      "outputs": [
        {
          "output_type": "execute_result",
          "data": {
            "text/plain": [
              "[1, 2, 3, 5, 6, 8]"
            ]
          },
          "metadata": {
            "tags": []
          },
          "execution_count": 46
        }
      ]
    },
    {
      "cell_type": "markdown",
      "metadata": {
        "id": "3mqrONrlEVdF"
      },
      "source": [
        "[จุดเริ่มต้น:จุดสุดท้าย:step] "
      ]
    },
    {
      "cell_type": "code",
      "metadata": {
        "colab": {
          "base_uri": "https://localhost:8080/"
        },
        "id": "hCerGIGbEibK",
        "outputId": "752ca71f-e1b3-4a30-f5f6-1d943d7b3fdb"
      },
      "source": [
        "list_ex"
      ],
      "execution_count": 47,
      "outputs": [
        {
          "output_type": "execute_result",
          "data": {
            "text/plain": [
              "[1, 2, 3, 5, 6, 8, -1, 20, 50, 0]"
            ]
          },
          "metadata": {
            "tags": []
          },
          "execution_count": 47
        }
      ]
    },
    {
      "cell_type": "code",
      "metadata": {
        "colab": {
          "base_uri": "https://localhost:8080/"
        },
        "id": "5BWqPpubD3PQ",
        "outputId": "e0d28830-481c-4e46-8226-ceddc21b3718"
      },
      "source": [
        "list_ex[::2]"
      ],
      "execution_count": 48,
      "outputs": [
        {
          "output_type": "execute_result",
          "data": {
            "text/plain": [
              "[1, 3, 6, -1, 50]"
            ]
          },
          "metadata": {
            "tags": []
          },
          "execution_count": 48
        }
      ]
    },
    {
      "cell_type": "code",
      "metadata": {
        "colab": {
          "base_uri": "https://localhost:8080/"
        },
        "id": "dQ4s-D_NEU61",
        "outputId": "e5496bb4-fa52-44b8-e1d8-234f072f41c8"
      },
      "source": [
        "list_ex[::-1]   # การกลับ list จากหลังมาหน้า จากหน้ามาหลัง"
      ],
      "execution_count": 49,
      "outputs": [
        {
          "output_type": "execute_result",
          "data": {
            "text/plain": [
              "[0, 50, 20, -1, 8, 6, 5, 3, 2, 1]"
            ]
          },
          "metadata": {
            "tags": []
          },
          "execution_count": 49
        }
      ]
    },
    {
      "cell_type": "code",
      "metadata": {
        "colab": {
          "base_uri": "https://localhost:8080/",
          "height": 34
        },
        "id": "pC56sXEyE41D",
        "outputId": "6cc62d24-933e-451b-abd2-604c223a7096"
      },
      "source": [
        "a"
      ],
      "execution_count": 50,
      "outputs": [
        {
          "output_type": "execute_result",
          "data": {
            "application/vnd.google.colaboratory.intrinsic+json": {
              "type": "string"
            },
            "text/plain": [
              "'Stat KKU'"
            ]
          },
          "metadata": {
            "tags": []
          },
          "execution_count": 50
        }
      ]
    },
    {
      "cell_type": "code",
      "metadata": {
        "colab": {
          "base_uri": "https://localhost:8080/",
          "height": 34
        },
        "id": "iIfRpqA3FOG2",
        "outputId": "baf9855f-a59a-4658-8166-02532f21cf8a"
      },
      "source": [
        "a[5:]"
      ],
      "execution_count": 51,
      "outputs": [
        {
          "output_type": "execute_result",
          "data": {
            "application/vnd.google.colaboratory.intrinsic+json": {
              "type": "string"
            },
            "text/plain": [
              "'KKU'"
            ]
          },
          "metadata": {
            "tags": []
          },
          "execution_count": 51
        }
      ]
    },
    {
      "cell_type": "code",
      "metadata": {
        "colab": {
          "base_uri": "https://localhost:8080/",
          "height": 34
        },
        "id": "XMxKOX5DFThs",
        "outputId": "cf801c09-3474-4285-b4da-c68e35770606"
      },
      "source": [
        "a[-3:]"
      ],
      "execution_count": 52,
      "outputs": [
        {
          "output_type": "execute_result",
          "data": {
            "application/vnd.google.colaboratory.intrinsic+json": {
              "type": "string"
            },
            "text/plain": [
              "'KKU'"
            ]
          },
          "metadata": {
            "tags": []
          },
          "execution_count": 52
        }
      ]
    },
    {
      "cell_type": "code",
      "metadata": {
        "colab": {
          "base_uri": "https://localhost:8080/",
          "height": 34
        },
        "id": "UDcU0K3ZGDsM",
        "outputId": "21231299-1bee-4a56-a8c1-4f18d1ff7b3e"
      },
      "source": [
        "a[5:8]"
      ],
      "execution_count": 53,
      "outputs": [
        {
          "output_type": "execute_result",
          "data": {
            "application/vnd.google.colaboratory.intrinsic+json": {
              "type": "string"
            },
            "text/plain": [
              "'KKU'"
            ]
          },
          "metadata": {
            "tags": []
          },
          "execution_count": 53
        }
      ]
    },
    {
      "cell_type": "code",
      "metadata": {
        "colab": {
          "base_uri": "https://localhost:8080/",
          "height": 34
        },
        "id": "FBFDFlAIGKnP",
        "outputId": "1f78c275-93b6-404e-d71f-9784fd3cc22a"
      },
      "source": [
        "a[5::]"
      ],
      "execution_count": 54,
      "outputs": [
        {
          "output_type": "execute_result",
          "data": {
            "application/vnd.google.colaboratory.intrinsic+json": {
              "type": "string"
            },
            "text/plain": [
              "'KKU'"
            ]
          },
          "metadata": {
            "tags": []
          },
          "execution_count": 54
        }
      ]
    },
    {
      "cell_type": "code",
      "metadata": {
        "colab": {
          "base_uri": "https://localhost:8080/",
          "height": 34
        },
        "id": "uSo_fF56GVXF",
        "outputId": "798fc9ea-f81f-4153-ce59-a1868617d564"
      },
      "source": [
        "a[-3::]"
      ],
      "execution_count": 55,
      "outputs": [
        {
          "output_type": "execute_result",
          "data": {
            "application/vnd.google.colaboratory.intrinsic+json": {
              "type": "string"
            },
            "text/plain": [
              "'KKU'"
            ]
          },
          "metadata": {
            "tags": []
          },
          "execution_count": 55
        }
      ]
    },
    {
      "cell_type": "code",
      "metadata": {
        "colab": {
          "base_uri": "https://localhost:8080/",
          "height": 34
        },
        "id": "nWFTtFMoGix1",
        "outputId": "caac1bf3-391e-4288-cd78-62d8ad11fd6a"
      },
      "source": [
        "a[-3::1]"
      ],
      "execution_count": 56,
      "outputs": [
        {
          "output_type": "execute_result",
          "data": {
            "application/vnd.google.colaboratory.intrinsic+json": {
              "type": "string"
            },
            "text/plain": [
              "'KKU'"
            ]
          },
          "metadata": {
            "tags": []
          },
          "execution_count": 56
        }
      ]
    },
    {
      "cell_type": "markdown",
      "metadata": {
        "id": "mGMQnjyPG5To"
      },
      "source": [
        "### list + list"
      ]
    },
    {
      "cell_type": "code",
      "metadata": {
        "colab": {
          "base_uri": "https://localhost:8080/"
        },
        "id": "_O-rjuTtHG6p",
        "outputId": "cbfd695b-ab05-4234-f45b-48235a030edb"
      },
      "source": [
        "print(list_a)\n",
        "print(list_b)"
      ],
      "execution_count": 57,
      "outputs": [
        {
          "output_type": "stream",
          "text": [
            "[1, 2, 0.2, 'abs']\n",
            "[2, 'xyz', [1, 2, 0.2, 'abs'], [1, 2, 0.0]]\n"
          ],
          "name": "stdout"
        }
      ]
    },
    {
      "cell_type": "code",
      "metadata": {
        "colab": {
          "base_uri": "https://localhost:8080/"
        },
        "id": "AZl5HAnSGtFY",
        "outputId": "696a834e-f5f5-41de-bb17-bf23996fb226"
      },
      "source": [
        "list_a + list_b"
      ],
      "execution_count": 58,
      "outputs": [
        {
          "output_type": "execute_result",
          "data": {
            "text/plain": [
              "[1, 2, 0.2, 'abs', 2, 'xyz', [1, 2, 0.2, 'abs'], [1, 2, 0.0]]"
            ]
          },
          "metadata": {
            "tags": []
          },
          "execution_count": 58
        }
      ]
    },
    {
      "cell_type": "markdown",
      "metadata": {
        "id": "UFTwtmavLbpQ"
      },
      "source": [
        "format string "
      ]
    },
    {
      "cell_type": "markdown",
      "metadata": {
        "id": "ENAfUhm0MFM3"
      },
      "source": [
        "```python\n",
        "f 'string{ตัวแปร}'\n",
        "```\n",
        "\n"
      ]
    },
    {
      "cell_type": "code",
      "metadata": {
        "colab": {
          "base_uri": "https://localhost:8080/",
          "height": 34
        },
        "id": "oKswhPdVLgEZ",
        "outputId": "27aaadb6-7370-4692-f266-604e64b5145f"
      },
      "source": [
        "f'ตัวแปร list_a มีค่าคือ {list_a}'"
      ],
      "execution_count": 59,
      "outputs": [
        {
          "output_type": "execute_result",
          "data": {
            "application/vnd.google.colaboratory.intrinsic+json": {
              "type": "string"
            },
            "text/plain": [
              "\"ตัวแปร list_a มีค่าคือ [1, 2, 0.2, 'abs']\""
            ]
          },
          "metadata": {
            "tags": []
          },
          "execution_count": 59
        }
      ]
    },
    {
      "cell_type": "code",
      "metadata": {
        "colab": {
          "base_uri": "https://localhost:8080/",
          "height": 34
        },
        "id": "zsC6XPZTL3yF",
        "outputId": "860ed1ef-9821-4f39-e373-878f65610186"
      },
      "source": [
        "f'ตัวแปร list_ex มีค่าคือ {list_ex}'"
      ],
      "execution_count": 60,
      "outputs": [
        {
          "output_type": "execute_result",
          "data": {
            "application/vnd.google.colaboratory.intrinsic+json": {
              "type": "string"
            },
            "text/plain": [
              "'ตัวแปร list_ex มีค่าคือ [1, 2, 3, 5, 6, 8, -1, 20, 50, 0]'"
            ]
          },
          "metadata": {
            "tags": []
          },
          "execution_count": 60
        }
      ]
    },
    {
      "cell_type": "markdown",
      "metadata": {
        "id": "_cXnmp5cHp97"
      },
      "source": [
        "# Loop"
      ]
    },
    {
      "cell_type": "markdown",
      "metadata": {
        "id": "9C3P4kS2B3Di"
      },
      "source": [
        "ทำงานซ้ำๆ หรือ ทำงานคล้ายๆกัน"
      ]
    },
    {
      "cell_type": "markdown",
      "metadata": {
        "id": "K7hYeRcHKkyR"
      },
      "source": [
        "indent\n",
        "```python\n",
        "for ตัวแปรที่จะรับค่าจาก list in list: ลิสต์ที่จะนำมาวนลูป: \n",
        "     do something  #in loop\n",
        "     do another thing   #in loop\n",
        "\n",
        "do snother things  # out side loop\n",
        "```\n",
        "\n"
      ]
    },
    {
      "cell_type": "code",
      "metadata": {
        "colab": {
          "base_uri": "https://localhost:8080/"
        },
        "id": "SQV6b_m-JzU7",
        "outputId": "45190b27-b010-4b4b-8daa-2fdbbff0d76e"
      },
      "source": [
        "for i in [1,2,3,4,5]:\n",
        "     print(i+1)"
      ],
      "execution_count": 61,
      "outputs": [
        {
          "output_type": "stream",
          "text": [
            "2\n",
            "3\n",
            "4\n",
            "5\n",
            "6\n"
          ],
          "name": "stdout"
        }
      ]
    },
    {
      "cell_type": "code",
      "metadata": {
        "colab": {
          "base_uri": "https://localhost:8080/"
        },
        "id": "hJGWZdgIMjkc",
        "outputId": "ef6e48cf-6202-4e70-b38d-bf0fade1adc2"
      },
      "source": [
        "for x in [1,2,3,4,5]:\n",
        "     print(f'ค่าตัวแปร x คือ {x} และ x+2={x+2}')"
      ],
      "execution_count": 62,
      "outputs": [
        {
          "output_type": "stream",
          "text": [
            "ค่าตัวแปร x คือ 1 และ x+2=3\n",
            "ค่าตัวแปร x คือ 2 และ x+2=4\n",
            "ค่าตัวแปร x คือ 3 และ x+2=5\n",
            "ค่าตัวแปร x คือ 4 และ x+2=6\n",
            "ค่าตัวแปร x คือ 5 และ x+2=7\n"
          ],
          "name": "stdout"
        }
      ]
    },
    {
      "cell_type": "code",
      "metadata": {
        "colab": {
          "base_uri": "https://localhost:8080/"
        },
        "id": "ixhFCGAVNCfl",
        "outputId": "6b3a4c5e-00db-4e8e-f203-8c5082b2a79c"
      },
      "source": [
        "list5=[1,2,3,4,5]\n",
        "for x in list5:\n",
        "     print(f'ค่าตัวแปร x คือ {x} และ x+2={x+2}')"
      ],
      "execution_count": 63,
      "outputs": [
        {
          "output_type": "stream",
          "text": [
            "ค่าตัวแปร x คือ 1 และ x+2=3\n",
            "ค่าตัวแปร x คือ 2 และ x+2=4\n",
            "ค่าตัวแปร x คือ 3 และ x+2=5\n",
            "ค่าตัวแปร x คือ 4 และ x+2=6\n",
            "ค่าตัวแปร x คือ 5 และ x+2=7\n"
          ],
          "name": "stdout"
        }
      ]
    },
    {
      "cell_type": "code",
      "metadata": {
        "colab": {
          "base_uri": "https://localhost:8080/"
        },
        "id": "srGZBZoINOzB",
        "outputId": "d55e08f3-af48-4028-ea4f-051e6c07cced"
      },
      "source": [
        "list(range(10))"
      ],
      "execution_count": 64,
      "outputs": [
        {
          "output_type": "execute_result",
          "data": {
            "text/plain": [
              "[0, 1, 2, 3, 4, 5, 6, 7, 8, 9]"
            ]
          },
          "metadata": {
            "tags": []
          },
          "execution_count": 64
        }
      ]
    },
    {
      "cell_type": "code",
      "metadata": {
        "colab": {
          "base_uri": "https://localhost:8080/"
        },
        "id": "ziaWWIY0Nh-0",
        "outputId": "f10e0708-3469-4aab-ed11-d687ba8c2df6"
      },
      "source": [
        "for i in range(2,7):\n",
        "     print(i)"
      ],
      "execution_count": 65,
      "outputs": [
        {
          "output_type": "stream",
          "text": [
            "2\n",
            "3\n",
            "4\n",
            "5\n",
            "6\n"
          ],
          "name": "stdout"
        }
      ]
    },
    {
      "cell_type": "code",
      "metadata": {
        "colab": {
          "base_uri": "https://localhost:8080/"
        },
        "id": "SyTC0cULOGb8",
        "outputId": "42e944a6-bd73-4fad-8e31-973d14c1d7b9"
      },
      "source": [
        "for i in range(2,7,2):\n",
        "     print(i)"
      ],
      "execution_count": 66,
      "outputs": [
        {
          "output_type": "stream",
          "text": [
            "2\n",
            "4\n",
            "6\n"
          ],
          "name": "stdout"
        }
      ]
    },
    {
      "cell_type": "code",
      "metadata": {
        "colab": {
          "base_uri": "https://localhost:8080/"
        },
        "id": "yJUu1-IlOeoW",
        "outputId": "8eea15f8-d53c-4a84-8180-f3e48bf49fac"
      },
      "source": [
        "for i in range(5):\n",
        "     print('hahaha')"
      ],
      "execution_count": 67,
      "outputs": [
        {
          "output_type": "stream",
          "text": [
            "hahaha\n",
            "hahaha\n",
            "hahaha\n",
            "hahaha\n",
            "hahaha\n"
          ],
          "name": "stdout"
        }
      ]
    },
    {
      "cell_type": "code",
      "metadata": {
        "colab": {
          "base_uri": "https://localhost:8080/"
        },
        "id": "yGMtuC51OtcU",
        "outputId": "b218a5b0-fcfa-445d-8a98-0f10baf6b35f"
      },
      "source": [
        "for i in range(5):\n",
        "     print('hahaha')\n",
        "     x = i + 3\n",
        "     print(f'i={i} x={x}')"
      ],
      "execution_count": 68,
      "outputs": [
        {
          "output_type": "stream",
          "text": [
            "hahaha\n",
            "i=0 x=3\n",
            "hahaha\n",
            "i=1 x=4\n",
            "hahaha\n",
            "i=2 x=5\n",
            "hahaha\n",
            "i=3 x=6\n",
            "hahaha\n",
            "i=4 x=7\n"
          ],
          "name": "stdout"
        }
      ]
    },
    {
      "cell_type": "markdown",
      "metadata": {
        "id": "5Wfkj44lPPeG"
      },
      "source": [
        "## Nested loop\n",
        "\n",
        "loopซ้อนloop"
      ]
    },
    {
      "cell_type": "code",
      "metadata": {
        "colab": {
          "base_uri": "https://localhost:8080/"
        },
        "id": "dHdj9gcePOTF",
        "outputId": "0e8c9836-4044-4939-9805-ef91843386d8"
      },
      "source": [
        "for i in range(3):\n",
        "     print(f' now i = {i}')\n",
        "     print('start j loop')\n",
        "     for j in range(4):\n",
        "          print(f'i={i} j={j} i+j={i+j}')\n",
        "     print('end j loop')"
      ],
      "execution_count": 69,
      "outputs": [
        {
          "output_type": "stream",
          "text": [
            " now i = 0\n",
            "start j loop\n",
            "i=0 j=0 i+j=0\n",
            "i=0 j=1 i+j=1\n",
            "i=0 j=2 i+j=2\n",
            "i=0 j=3 i+j=3\n",
            "end j loop\n",
            " now i = 1\n",
            "start j loop\n",
            "i=1 j=0 i+j=1\n",
            "i=1 j=1 i+j=2\n",
            "i=1 j=2 i+j=3\n",
            "i=1 j=3 i+j=4\n",
            "end j loop\n",
            " now i = 2\n",
            "start j loop\n",
            "i=2 j=0 i+j=2\n",
            "i=2 j=1 i+j=3\n",
            "i=2 j=2 i+j=4\n",
            "i=2 j=3 i+j=5\n",
            "end j loop\n"
          ],
          "name": "stdout"
        }
      ]
    },
    {
      "cell_type": "markdown",
      "metadata": {
        "id": "0amX_0qqHsug"
      },
      "source": [
        "## Condition (if statement)\n"
      ]
    },
    {
      "cell_type": "markdown",
      "metadata": {
        "id": "dzwjsZt2FpfW"
      },
      "source": [
        "``` python\n",
        "if เงื่อนไขที่จะตรวจสอบ (โดยใช้สัญลักษณ์ ==,!=,<,>,<=,>=):\n",
        "    ถ้าเงื่อนไขเป็นจริง ทำงาน 1\n",
        "    ถ้าเงื่อนไขเป็นจริง ทไงาน 2\n",
        "```\n",
        "\n"
      ]
    },
    {
      "cell_type": "code",
      "metadata": {
        "colab": {
          "base_uri": "https://localhost:8080/"
        },
        "id": "2_uFd9viGNCO",
        "outputId": "50be3c53-0f0c-4ba4-b721-65a3ec6b8572"
      },
      "source": [
        "stringx = 'nonttanont taont916 looooooovvvvveeeeee'\n",
        "\n",
        "if len(stringx) > 30:\n",
        "    print(f'{stringx} is longer than 30 characters')"
      ],
      "execution_count": 70,
      "outputs": [
        {
          "output_type": "stream",
          "text": [
            "nonttanont taont916 looooooovvvvveeeeee is longer than 30 characters\n"
          ],
          "name": "stdout"
        }
      ]
    },
    {
      "cell_type": "code",
      "metadata": {
        "id": "rvOY_e2_HQ8L"
      },
      "source": [
        "stringx = 'nonttanont taont916 looooooovvvvveeeeee'\n",
        "\n",
        "if len(stringx) > 100:\n",
        "    print(f'{stringx} is longer than 30 characters')"
      ],
      "execution_count": 71,
      "outputs": []
    },
    {
      "cell_type": "markdown",
      "metadata": {
        "id": "yqEl-pQuHqIo"
      },
      "source": [
        "``` python\n",
        "if เงื่อนไขที่จะตรวจสอบ (โดยใช้สัญลักษณ์ ==,!=,<,>,<=,>=):\n",
        "    ถ้าเงื่อนไขเป็นจริง ทำงาน 1\n",
        "    ถ้าเงื่อนไขเป็นจริง ทไงาน 2\n",
        "else: #ตรวจสอบเงื่อนไขข้างบนแล้วไม่เป็นจริง\n",
        "      ทำงานที่ x \n",
        "```\n"
      ]
    },
    {
      "cell_type": "code",
      "metadata": {
        "colab": {
          "base_uri": "https://localhost:8080/"
        },
        "id": "p5SarDaeIEOi",
        "outputId": "02e5ecd6-4c5a-41ca-ae35-46a1d5484e23"
      },
      "source": [
        "stringx = 'nonttanont taont916 looooooovvvvveeeeee'\n",
        "\n",
        "if len(stringx) > 100:\n",
        "    print(f'{stringx} is longer than 30 characters')\n",
        "else:\n",
        "      print(f'{stringx} in {len(stringx)} characters long')    #ถ้าไม่มากกว่า100 ให้แสดงว่ามีเท่าไหร่"
      ],
      "execution_count": 72,
      "outputs": [
        {
          "output_type": "stream",
          "text": [
            "nonttanont taont916 looooooovvvvveeeeee in 39 characters long\n"
          ],
          "name": "stdout"
        }
      ]
    },
    {
      "cell_type": "markdown",
      "metadata": {
        "id": "sYAWYfg5JxJo"
      },
      "source": [
        "``` python\n",
        "if เงื่อนไขที่จะตรวจสอบ (โดยใช้สัญลักษณ์ ==,!=,<,>,<=,>=):\n",
        "    ถ้าเงื่อนไขเป็นจริง ทำงาน 1\n",
        "    ถ้าเงื่อนไขเป็นจริง ทำงาน 2\n",
        "elif  เงื่อนไขที่จะตรวจสอบต่อไปถ้าเงื่อนไขข้างบนไม่เป็นจริง:\n",
        "     ถ้าเงื่อนไขเป็นจริง ทำงานที่ a1\n",
        "     ถ้าเงื่อนไขเป็นจริง ทำงานที่ a2\n",
        "elif  เงื่อนไขที่จะตรวจสอบต่อไปถ้าเงื่อนไขข้างบนไม่เป็นจริง:\n",
        "     ถ้าเงื่อนไขเป็นจริง ทำงานที่ b1\n",
        "     ถ้าเงื่อนไขเป็นจริง ทำงานที่ b2\n",
        "else: #ตรวจสอบเงื่อนไขข้างบนแล้วไม่เป็นจริง\n",
        "      ทำงานที่ x \n",
        "```"
      ]
    },
    {
      "cell_type": "code",
      "metadata": {
        "colab": {
          "base_uri": "https://localhost:8080/"
        },
        "id": "pL9iHuOfK--W",
        "outputId": "dad0b816-5dd5-4164-c1b5-680678d2bbec"
      },
      "source": [
        "password = '12345'\n",
        "\n",
        "input_pass = '123sf'\n",
        "if input_pass == password:\n",
        "    print('Welcome!')\n",
        "elif len(input_pass) > len(password):\n",
        "    print('Too long, try again!')\n",
        "elif len(input_pass) < len(password):\n",
        "    print('Too short, try again!')\n",
        "else:\n",
        "    print('Wrong password, try again!') "
      ],
      "execution_count": 73,
      "outputs": [
        {
          "output_type": "stream",
          "text": [
            "Wrong password, try again!\n"
          ],
          "name": "stdout"
        }
      ]
    },
    {
      "cell_type": "markdown",
      "metadata": {
        "id": "SB1puNaFLI1c"
      },
      "source": [
        "Quiz 1 หา min"
      ]
    },
    {
      "cell_type": "code",
      "metadata": {
        "id": "qvs91nWEN9Lu"
      },
      "source": [
        "list_ex = [1,5,9,-19,-2,0]   #หาค่าน้อยที่สุดใน list_ex โดยไม่ใช้ function min (commit ก่อน 10.30 : Quiz1)"
      ],
      "execution_count": 74,
      "outputs": []
    },
    {
      "cell_type": "code",
      "metadata": {
        "colab": {
          "base_uri": "https://localhost:8080/"
        },
        "id": "85EpQFkNO3uh",
        "outputId": "9fe36b74-ff1c-404b-cce8-f24f767b4a87"
      },
      "source": [
        "list_ex[3:4:2]"
      ],
      "execution_count": 75,
      "outputs": [
        {
          "output_type": "execute_result",
          "data": {
            "text/plain": [
              "[-19]"
            ]
          },
          "metadata": {
            "tags": []
          },
          "execution_count": 75
        }
      ]
    },
    {
      "cell_type": "code",
      "metadata": {
        "colab": {
          "base_uri": "https://localhost:8080/"
        },
        "id": "dPVkxPrqSntM",
        "outputId": "797660b8-8302-43c4-a097-10784deed562"
      },
      "source": [
        "# เฉลย\n",
        "min = 1000000  #ตั้งค่าไว้ก่อนให้เยอะๆ\n",
        "\n",
        "for i in list_ex:   #วนเข้าไปดูตัวที่น้อยสุด\n",
        "     if i < min:\n",
        "         min = i\n",
        "print(min)"
      ],
      "execution_count": 76,
      "outputs": [
        {
          "output_type": "stream",
          "text": [
            "-19\n"
          ],
          "name": "stdout"
        }
      ]
    },
    {
      "cell_type": "code",
      "metadata": {
        "colab": {
          "base_uri": "https://localhost:8080/"
        },
        "id": "_V-fkez2UP0j",
        "outputId": "1056e1d9-d4ec-4b20-c33f-a23a2e386e96"
      },
      "source": [
        "min = 1000000  #ตั้งค่าไว้ก่อนให้เยอะๆ\n",
        "print(list_ex)\n",
        "for i in list_ex:   #วนเข้าไปดูตัวที่น้อยสุด\n",
        "     print(f'now i = {i}, min = {min}')\n",
        "     print('start condition')\n",
        "     if i < min:\n",
        "        print(f'i < min, update min -> {i}')\n",
        "        min = i\n",
        "     else:\n",
        "          print('not update')\n",
        "     print('end condition, go to next i')\n",
        "\n",
        "print(min)"
      ],
      "execution_count": 77,
      "outputs": [
        {
          "output_type": "stream",
          "text": [
            "[1, 5, 9, -19, -2, 0]\n",
            "now i = 1, min = 1000000\n",
            "start condition\n",
            "i < min, update min -> 1\n",
            "end condition, go to next i\n",
            "now i = 5, min = 1\n",
            "start condition\n",
            "not update\n",
            "end condition, go to next i\n",
            "now i = 9, min = 1\n",
            "start condition\n",
            "not update\n",
            "end condition, go to next i\n",
            "now i = -19, min = 1\n",
            "start condition\n",
            "i < min, update min -> -19\n",
            "end condition, go to next i\n",
            "now i = -2, min = -19\n",
            "start condition\n",
            "not update\n",
            "end condition, go to next i\n",
            "now i = 0, min = -19\n",
            "start condition\n",
            "not update\n",
            "end condition, go to next i\n",
            "-19\n"
          ],
          "name": "stdout"
        }
      ]
    },
    {
      "cell_type": "markdown",
      "metadata": {
        "id": "alljvCvZLNs9"
      },
      "source": [
        "HW 2 ตัดเกรด"
      ]
    },
    {
      "cell_type": "code",
      "metadata": {
        "id": "NFvPC6COTp4q"
      },
      "source": [
        "score = [49,65,70,95,82,55,89,20,77,77,81,59,10]   #ตัดเกรด คะแนนใน list score (ใช้ if กับ for)"
      ],
      "execution_count": 78,
      "outputs": []
    },
    {
      "cell_type": "code",
      "metadata": {
        "id": "aLDsntgcNth3",
        "colab": {
          "base_uri": "https://localhost:8080/"
        },
        "outputId": "193c8367-187c-4c7c-b731-c6318c1896fa"
      },
      "source": [
        "print(score)\n",
        "for i in score:\n",
        "   if  i  >= 80:\n",
        "       print('grade \"A\" ')\n",
        "   elif  i  >= 75:\n",
        "         print('grade \"B+\" ')\n",
        "   elif  i  >= 70:\n",
        "         print('grade \"B\" ')\n",
        "   elif  i  >= 65:\n",
        "         print('grade \"C+\" ')\n",
        "   elif  i  >= 60:\n",
        "         print('grade \"C\" ')\n",
        "   elif  i  >= 55:\n",
        "         print('grade \"D+\" ')\n",
        "   elif  i  >= 50:\n",
        "         print('grade \"D\" ') \n",
        "   else:\n",
        "         print('grade \"F\" ')"
      ],
      "execution_count": 79,
      "outputs": [
        {
          "output_type": "stream",
          "text": [
            "[49, 65, 70, 95, 82, 55, 89, 20, 77, 77, 81, 59, 10]\n",
            "grade \"F\" \n",
            "grade \"C+\" \n",
            "grade \"B\" \n",
            "grade \"A\" \n",
            "grade \"A\" \n",
            "grade \"B+\" \n",
            "grade \"A\" \n",
            "grade \"F\" \n",
            "grade \"B+\" \n",
            "grade \"B+\" \n",
            "grade \"A\" \n",
            "grade \"B+\" \n",
            "grade \"F\" \n"
          ],
          "name": "stdout"
        }
      ]
    },
    {
      "cell_type": "markdown",
      "metadata": {
        "id": "ETrryAwdFl88"
      },
      "source": [
        "## Function"
      ]
    },
    {
      "cell_type": "markdown",
      "metadata": {
        "id": "ouJOh3qaw6L0"
      },
      "source": [
        "## Function\n",
        "\n",
        "```python\n",
        "def ชื่อฟังก์ชั้น(input1,input2,....):\n",
        "      งานxxx\n",
        "      งานyyy\n",
        "      return output\n",
        "```\n",
        "\n",
        "\n",
        "\n",
        "ส่วนประกอบสำคัญ\n",
        "*   input\n",
        "*   process (ไม่มีไม่ได้)\n",
        "*   output\n",
        "\n",
        "\n",
        "\n",
        "\n"
      ]
    },
    {
      "cell_type": "markdown",
      "metadata": {
        "id": "f5_IZp-mzA5O"
      },
      "source": [
        "![Capture.PNG](data:image/png;base64,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)"
      ]
    },
    {
      "cell_type": "markdown",
      "metadata": {
        "id": "nFsCpnkgzEJM"
      },
      "source": [
        "Example 1"
      ]
    },
    {
      "cell_type": "code",
      "metadata": {
        "id": "0IU-zFTHHC6J"
      },
      "source": [
        "def grading(score):\n",
        "      if  score  >= 80:\n",
        "            grade = 'A'\n",
        "      elif  score  >= 75:\n",
        "            grade = 'B+'\n",
        "      elif  score  >= 70:\n",
        "            grade = 'B'\n",
        "      elif  score  >= 65:\n",
        "            grade = 'C+'\n",
        "      elif  score  >= 60:\n",
        "            grade = 'C'\n",
        "      elif  score  >= 55:\n",
        "            grade = 'D+'\n",
        "      elif  score  >= 50:\n",
        "            grade = 'D' \n",
        "      else:\n",
        "            grade = 'F'\n",
        "\n",
        "      return grade"
      ],
      "execution_count": 79,
      "outputs": []
    },
    {
      "cell_type": "code",
      "metadata": {
        "id": "pZe9CBa50yUr"
      },
      "source": [
        "score = [49,65,70,95,82,55,89,20,77,77,81,59,10]"
      ],
      "execution_count": null,
      "outputs": []
    }
  ]
}