{
  "nbformat": 4,
  "nbformat_minor": 0,
  "metadata": {
    "colab": {
      "name": "Data101 (Chapter2).ipynb",
      "provenance": [],
      "authorship_tag": "ABX9TyPyuwDeQw3BtBVvXwNwFqJw",
      "include_colab_link": true
    },
    "kernelspec": {
      "name": "python3",
      "display_name": "Python 3"
    },
    "language_info": {
      "name": "python"
    }
  },
  "cells": [
    {
      "cell_type": "markdown",
      "metadata": {
        "id": "view-in-github",
        "colab_type": "text"
      },
      "source": [
        "<a href=\"https://colab.research.google.com/github/Jittiya/DWDM21/blob/main/Data101_(Chapter2).ipynb\" target=\"_parent\"><img src=\"https://colab.research.google.com/assets/colab-badge.svg\" alt=\"Open In Colab\"/></a>"
      ]
    },
    {
      "cell_type": "markdown",
      "metadata": {
        "id": "mY7zoM8S0CVN"
      },
      "source": [
        "ข้อความที่อยู่ใน Textbox จะเป็นภาษา markdown"
      ]
    },
    {
      "cell_type": "markdown",
      "metadata": {
        "id": "MIYllvGyt6Z-"
      },
      "source": [
        "ข้อดีหนึ่งของ Python คือี package สำหรับการทำงานต่างๆมากมาย\n",
        "\n",
        "ซึ่ง pandas เป็น package สำหรับการทำงานกับข้อมูลที่อยู่ในรูปแบบตาราง\n",
        "\n",
        "โดย pandas จะเรียกตารางนั้นว่า dataframe"
      ]
    },
    {
      "cell_type": "code",
      "metadata": {
        "id": "L1EKAgpmsXh-"
      },
      "source": [
        "import pandas  #เรียกใช้ package โดยการ import ต่อด้วยชื่อ package"
      ],
      "execution_count": 1,
      "outputs": []
    },
    {
      "cell_type": "code",
      "metadata": {
        "id": "d7fgc_UEtOrn"
      },
      "source": [
        "import pandas as pd  #เป็นการ import เหมือนกัน แต่เปลี่ยนการตั้งชื่อให้ package ที่โหลดมาใหม่ว่า pd"
      ],
      "execution_count": 2,
      "outputs": []
    },
    {
      "cell_type": "markdown",
      "metadata": {
        "id": "flActA3Nu7Dj"
      },
      "source": [
        "ไฟล์ .csv (CSV = comma separated values) เป็นไฟล์หลักที่จะต้องใช้ในวิชานี้\n",
        "\n"
      ]
    },
    {
      "cell_type": "code",
      "metadata": {
        "id": "iBpf-8BjuryQ"
      },
      "source": [
        "data_df = pd.read_csv('data.csv')    #ใช้คำสั่งเพื่อนำ data เข้ามา"
      ],
      "execution_count": 4,
      "outputs": []
    },
    {
      "cell_type": "code",
      "metadata": {
        "colab": {
          "base_uri": "https://localhost:8080/",
          "height": 142
        },
        "id": "jGZENUloxb5H",
        "outputId": "6ced7517-9bc7-457f-96e7-7b98070bb3a6"
      },
      "source": [
        "data_df   #เรียกดู data"
      ],
      "execution_count": 5,
      "outputs": [
        {
          "output_type": "execute_result",
          "data": {
            "text/html": [
              "<div>\n",
              "<style scoped>\n",
              "    .dataframe tbody tr th:only-of-type {\n",
              "        vertical-align: middle;\n",
              "    }\n",
              "\n",
              "    .dataframe tbody tr th {\n",
              "        vertical-align: top;\n",
              "    }\n",
              "\n",
              "    .dataframe thead th {\n",
              "        text-align: right;\n",
              "    }\n",
              "</style>\n",
              "<table border=\"1\" class=\"dataframe\">\n",
              "  <thead>\n",
              "    <tr style=\"text-align: right;\">\n",
              "      <th></th>\n",
              "      <th>name</th>\n",
              "      <th>age</th>\n",
              "      <th>city</th>\n",
              "    </tr>\n",
              "  </thead>\n",
              "  <tbody>\n",
              "    <tr>\n",
              "      <th>0</th>\n",
              "      <td>Tom</td>\n",
              "      <td>27</td>\n",
              "      <td>Khon Kaen</td>\n",
              "    </tr>\n",
              "    <tr>\n",
              "      <th>1</th>\n",
              "      <td>Paul</td>\n",
              "      <td>15</td>\n",
              "      <td>Bangkok</td>\n",
              "    </tr>\n",
              "    <tr>\n",
              "      <th>2</th>\n",
              "      <td>Sarah</td>\n",
              "      <td>49</td>\n",
              "      <td>London</td>\n",
              "    </tr>\n",
              "  </tbody>\n",
              "</table>\n",
              "</div>"
            ],
            "text/plain": [
              "    name  age       city\n",
              "0    Tom   27  Khon Kaen\n",
              "1   Paul   15    Bangkok\n",
              "2  Sarah   49     London"
            ]
          },
          "metadata": {
            "tags": []
          },
          "execution_count": 5
        }
      ]
    },
    {
      "cell_type": "code",
      "metadata": {
        "colab": {
          "base_uri": "https://localhost:8080/",
          "height": 142
        },
        "id": "aV_1sh7IxdpO",
        "outputId": "4f5be5c4-8cc6-4088-b5af-d244cf95a4e1"
      },
      "source": [
        "data_df2 = pandas.read_csv('data.csv')\n",
        "data_df2"
      ],
      "execution_count": 6,
      "outputs": [
        {
          "output_type": "execute_result",
          "data": {
            "text/html": [
              "<div>\n",
              "<style scoped>\n",
              "    .dataframe tbody tr th:only-of-type {\n",
              "        vertical-align: middle;\n",
              "    }\n",
              "\n",
              "    .dataframe tbody tr th {\n",
              "        vertical-align: top;\n",
              "    }\n",
              "\n",
              "    .dataframe thead th {\n",
              "        text-align: right;\n",
              "    }\n",
              "</style>\n",
              "<table border=\"1\" class=\"dataframe\">\n",
              "  <thead>\n",
              "    <tr style=\"text-align: right;\">\n",
              "      <th></th>\n",
              "      <th>name</th>\n",
              "      <th>age</th>\n",
              "      <th>city</th>\n",
              "    </tr>\n",
              "  </thead>\n",
              "  <tbody>\n",
              "    <tr>\n",
              "      <th>0</th>\n",
              "      <td>Tom</td>\n",
              "      <td>27</td>\n",
              "      <td>Khon Kaen</td>\n",
              "    </tr>\n",
              "    <tr>\n",
              "      <th>1</th>\n",
              "      <td>Paul</td>\n",
              "      <td>15</td>\n",
              "      <td>Bangkok</td>\n",
              "    </tr>\n",
              "    <tr>\n",
              "      <th>2</th>\n",
              "      <td>Sarah</td>\n",
              "      <td>49</td>\n",
              "      <td>London</td>\n",
              "    </tr>\n",
              "  </tbody>\n",
              "</table>\n",
              "</div>"
            ],
            "text/plain": [
              "    name  age       city\n",
              "0    Tom   27  Khon Kaen\n",
              "1   Paul   15    Bangkok\n",
              "2  Sarah   49     London"
            ]
          },
          "metadata": {
            "tags": []
          },
          "execution_count": 6
        }
      ]
    },
    {
      "cell_type": "markdown",
      "metadata": {
        "id": "V-6qjLTBy0Ri"
      },
      "source": [
        "# Basic Python\n",
        "##variable"
      ]
    },
    {
      "cell_type": "markdown",
      "metadata": {
        "id": "jVeoZHqm1yzg"
      },
      "source": [
        "ข้อกำหนดในการตั้งชื่อตัวแปร\n",
        "\n",
        "1. ชื่อห้ามมีเว้นวรรค\n",
        "2. (พยายาม)ใช้ภาษาอังกฤษ\n",
        "3. ตัวเล็กตัวใหญ่แตกต่างกัน (case sensitive)\n",
        "4. ห้ามใช้ตัวเลขเป็นตัวหน้า"
      ]
    },
    {
      "cell_type": "code",
      "metadata": {
        "id": "jCQcNyocyfNG"
      },
      "source": [
        "variable_a = 12          #สร้างตัวแปลใส่เลข 12 แบบไม่มี quote จะเป็นตัวเลข\n",
        "variable_b = 'abcde'   # ' เรียกว่า quote\n",
        "variable_c = variable_a   #ค่าของ variable_c เท่่ากับ ค่าของ variable_a"
      ],
      "execution_count": 7,
      "outputs": []
    },
    {
      "cell_type": "code",
      "metadata": {
        "colab": {
          "base_uri": "https://localhost:8080/"
        },
        "id": "g4wv0CdU0ulA",
        "outputId": "f86a1eae-8221-4464-ce84-48e18bf21803"
      },
      "source": [
        "variable_a"
      ],
      "execution_count": 8,
      "outputs": [
        {
          "output_type": "execute_result",
          "data": {
            "text/plain": [
              "12"
            ]
          },
          "metadata": {
            "tags": []
          },
          "execution_count": 8
        }
      ]
    },
    {
      "cell_type": "code",
      "metadata": {
        "colab": {
          "base_uri": "https://localhost:8080/",
          "height": 34
        },
        "id": "gfbmILDW1ZNF",
        "outputId": "c708d64f-7b15-4276-fbdd-5b34cd7d31d4"
      },
      "source": [
        "variable_b"
      ],
      "execution_count": 9,
      "outputs": [
        {
          "output_type": "execute_result",
          "data": {
            "application/vnd.google.colaboratory.intrinsic+json": {
              "type": "string"
            },
            "text/plain": [
              "'abcde'"
            ]
          },
          "metadata": {
            "tags": []
          },
          "execution_count": 9
        }
      ]
    },
    {
      "cell_type": "code",
      "metadata": {
        "colab": {
          "base_uri": "https://localhost:8080/"
        },
        "id": "ZDpOT7Lu1qSX",
        "outputId": "7e433eb9-5f4b-4859-f96c-27cb9bc26a20"
      },
      "source": [
        "variable_c"
      ],
      "execution_count": 10,
      "outputs": [
        {
          "output_type": "execute_result",
          "data": {
            "text/plain": [
              "12"
            ]
          },
          "metadata": {
            "tags": []
          },
          "execution_count": 10
        }
      ]
    },
    {
      "cell_type": "code",
      "metadata": {
        "colab": {
          "base_uri": "https://localhost:8080/",
          "height": 130
        },
        "id": "fax7ORZT1sQn",
        "outputId": "8910bf1a-6958-43ed-b841-92ac7ecb1b1a"
      },
      "source": [
        "# ชื่อห้ามมีเว้นวรรค\n",
        "variable a = 6"
      ],
      "execution_count": 11,
      "outputs": [
        {
          "output_type": "error",
          "ename": "SyntaxError",
          "evalue": "ignored",
          "traceback": [
            "\u001b[0;36m  File \u001b[0;32m\"<ipython-input-11-126f7ab49866>\"\u001b[0;36m, line \u001b[0;32m2\u001b[0m\n\u001b[0;31m    variable a = 6\u001b[0m\n\u001b[0m             ^\u001b[0m\n\u001b[0;31mSyntaxError\u001b[0m\u001b[0;31m:\u001b[0m invalid syntax\n"
          ]
        }
      ]
    },
    {
      "cell_type": "code",
      "metadata": {
        "id": "9dBZ5cCN2Vkr"
      },
      "source": [
        "# พยายามใช้ภาษาอังกฤษ\n",
        "# colab ใช้ภาษาไทยเป็นชื่อตัวแปรได้แต่ไม่ควรใช้\n",
        "ตัวแปร = 3           \n",
        "ตัวแปร"
      ],
      "execution_count": null,
      "outputs": []
    },
    {
      "cell_type": "code",
      "metadata": {
        "colab": {
          "base_uri": "https://localhost:8080/"
        },
        "id": "fgrVK56f2dW8",
        "outputId": "74b28c79-0e91-49f3-b01a-3bcd8c0c7444"
      },
      "source": [
        "# ตัวเล็กกับตัวใหญ่ต่างกัน (case sensitive)\n",
        "v_a = 1\n",
        "V_a = 2\n",
        "print(v_a)\n",
        "print(V_a)"
      ],
      "execution_count": 12,
      "outputs": [
        {
          "output_type": "stream",
          "text": [
            "1\n",
            "2\n"
          ],
          "name": "stdout"
        }
      ]
    },
    {
      "cell_type": "code",
      "metadata": {
        "colab": {
          "base_uri": "https://localhost:8080/",
          "height": 130
        },
        "id": "T7XxLMaQ3DqD",
        "outputId": "cf2b10ff-346a-4b0c-edad-c24795410a8d"
      },
      "source": [
        "# ห้ามใช้ตัวเลขเป็นตัวหน้า\n",
        "2 = 1"
      ],
      "execution_count": 13,
      "outputs": [
        {
          "output_type": "error",
          "ename": "SyntaxError",
          "evalue": "ignored",
          "traceback": [
            "\u001b[0;36m  File \u001b[0;32m\"<ipython-input-13-24eb8a2ec18c>\"\u001b[0;36m, line \u001b[0;32m2\u001b[0m\n\u001b[0;31m    2 = 1\u001b[0m\n\u001b[0m         ^\u001b[0m\n\u001b[0;31mSyntaxError\u001b[0m\u001b[0;31m:\u001b[0m can't assign to literal\n"
          ]
        }
      ]
    },
    {
      "cell_type": "code",
      "metadata": {
        "id": "mjCTJexM34i5"
      },
      "source": [
        "# ห้ามใช้ตัวเลขเป็นตัวหน้า\n",
        "2ab = 1"
      ],
      "execution_count": null,
      "outputs": []
    },
    {
      "cell_type": "code",
      "metadata": {
        "id": "_9V1gtfb4Agd"
      },
      "source": [
        "# ห้ามใช้ตัวเลขเป็นตัวหน้า\n",
        "variable = 1"
      ],
      "execution_count": null,
      "outputs": []
    },
    {
      "cell_type": "code",
      "metadata": {
        "colab": {
          "base_uri": "https://localhost:8080/",
          "height": 164
        },
        "id": "K4EQwFub4EXn",
        "outputId": "d722a64d-65ff-4d20-f282-6def3d144dc1"
      },
      "source": [
        "print(variable)"
      ],
      "execution_count": 14,
      "outputs": [
        {
          "output_type": "error",
          "ename": "NameError",
          "evalue": "ignored",
          "traceback": [
            "\u001b[0;31m---------------------------------------------------------------------------\u001b[0m",
            "\u001b[0;31mNameError\u001b[0m                                 Traceback (most recent call last)",
            "\u001b[0;32m<ipython-input-14-503d059fc525>\u001b[0m in \u001b[0;36m<module>\u001b[0;34m()\u001b[0m\n\u001b[0;32m----> 1\u001b[0;31m \u001b[0mprint\u001b[0m\u001b[0;34m(\u001b[0m\u001b[0mvariable\u001b[0m\u001b[0;34m)\u001b[0m\u001b[0;34m\u001b[0m\u001b[0;34m\u001b[0m\u001b[0m\n\u001b[0m",
            "\u001b[0;31mNameError\u001b[0m: name 'variable' is not defined"
          ]
        }
      ]
    },
    {
      "cell_type": "code",
      "metadata": {
        "id": "DXTJYxeq4Gak"
      },
      "source": [
        "variable_a = 12          #สร้างตัวแปลใส่เลข 12 แบบไม่มี quote จะเป็นตัวเลข\n",
        "variable_b = 'abcde'   # ' เรียกว่า quote\n",
        "variable_c = variable_a   #ค่าของ variable_c เท่่ากับ ค่าของ variable_a\n",
        "variable_d = -41.2\n",
        "variable_4 = \"KKU\"  # \" เรียกว่า double quote"
      ],
      "execution_count": null,
      "outputs": []
    },
    {
      "cell_type": "code",
      "metadata": {
        "id": "E1dE4Q9k4r6Y"
      },
      "source": [
        "variable_x =  variable_c + variable_d\n",
        "print(variable_x)"
      ],
      "execution_count": null,
      "outputs": []
    },
    {
      "cell_type": "code",
      "metadata": {
        "id": "Y-dl3slk46iT"
      },
      "source": [
        "variable_x"
      ],
      "execution_count": null,
      "outputs": []
    },
    {
      "cell_type": "code",
      "metadata": {
        "colab": {
          "base_uri": "https://localhost:8080/",
          "height": 164
        },
        "id": "HQdtVR5J5AK1",
        "outputId": "4f746bf6-e0df-4300-a6b1-b5d1fd65fa40"
      },
      "source": [
        "variable_a + variable_b"
      ],
      "execution_count": 15,
      "outputs": [
        {
          "output_type": "error",
          "ename": "TypeError",
          "evalue": "ignored",
          "traceback": [
            "\u001b[0;31m---------------------------------------------------------------------------\u001b[0m",
            "\u001b[0;31mTypeError\u001b[0m                                 Traceback (most recent call last)",
            "\u001b[0;32m<ipython-input-15-ca279e5cd267>\u001b[0m in \u001b[0;36m<module>\u001b[0;34m()\u001b[0m\n\u001b[0;32m----> 1\u001b[0;31m \u001b[0mvariable_a\u001b[0m \u001b[0;34m+\u001b[0m \u001b[0mvariable_b\u001b[0m\u001b[0;34m\u001b[0m\u001b[0;34m\u001b[0m\u001b[0m\n\u001b[0m",
            "\u001b[0;31mTypeError\u001b[0m: unsupported operand type(s) for +: 'int' and 'str'"
          ]
        }
      ]
    },
    {
      "cell_type": "code",
      "metadata": {
        "id": "0wY586Ny6Zpa"
      },
      "source": [
        "print(variable_b + variable_4)  # print สามารถพิมพ์อะไรก็ได้ลงไปใน ()"
      ],
      "execution_count": null,
      "outputs": []
    },
    {
      "cell_type": "markdown",
      "metadata": {
        "id": "5-Yq5iBh7PZ0"
      },
      "source": [
        "# Casting int() str()\n",
        "\n",
        "- เปลี่ยนชนิดของตัวแปรได้"
      ]
    },
    {
      "cell_type": "code",
      "metadata": {
        "colab": {
          "base_uri": "https://localhost:8080/",
          "height": 181
        },
        "id": "nZbwQiBa6xqe",
        "outputId": "675192d3-3557-44e9-a82b-2252f16c3406"
      },
      "source": [
        "print(variable_x)            # เปลี่ยนให้เป็นจำนวนเต็ม ตอนแรกเป็น float เป็น int\n",
        "print(int(variable_x))"
      ],
      "execution_count": 16,
      "outputs": [
        {
          "output_type": "error",
          "ename": "NameError",
          "evalue": "ignored",
          "traceback": [
            "\u001b[0;31m---------------------------------------------------------------------------\u001b[0m",
            "\u001b[0;31mNameError\u001b[0m                                 Traceback (most recent call last)",
            "\u001b[0;32m<ipython-input-16-3f6982332859>\u001b[0m in \u001b[0;36m<module>\u001b[0;34m()\u001b[0m\n\u001b[0;32m----> 1\u001b[0;31m \u001b[0mprint\u001b[0m\u001b[0;34m(\u001b[0m\u001b[0mvariable_x\u001b[0m\u001b[0;34m)\u001b[0m            \u001b[0;31m# เปลี่ยนให้เป็นจำนวนเต็ม ตอนแรกเป็น float เป็น int\u001b[0m\u001b[0;34m\u001b[0m\u001b[0;34m\u001b[0m\u001b[0m\n\u001b[0m\u001b[1;32m      2\u001b[0m \u001b[0mprint\u001b[0m\u001b[0;34m(\u001b[0m\u001b[0mint\u001b[0m\u001b[0;34m(\u001b[0m\u001b[0mvariable_x\u001b[0m\u001b[0;34m)\u001b[0m\u001b[0;34m)\u001b[0m\u001b[0;34m\u001b[0m\u001b[0;34m\u001b[0m\u001b[0m\n",
            "\u001b[0;31mNameError\u001b[0m: name 'variable_x' is not defined"
          ]
        }
      ]
    },
    {
      "cell_type": "code",
      "metadata": {
        "id": "2KcTkHkC7m-Q"
      },
      "source": [
        "V_X = str(variable_x)\n",
        "print(V_X)"
      ],
      "execution_count": null,
      "outputs": []
    },
    {
      "cell_type": "code",
      "metadata": {
        "colab": {
          "base_uri": "https://localhost:8080/",
          "height": 164
        },
        "id": "Zbi9lXrT8ELu",
        "outputId": "ad34f313-f0eb-403c-ea99-2ba9976a1fc0"
      },
      "source": [
        "V_X + variable_a"
      ],
      "execution_count": 17,
      "outputs": [
        {
          "output_type": "error",
          "ename": "NameError",
          "evalue": "ignored",
          "traceback": [
            "\u001b[0;31m---------------------------------------------------------------------------\u001b[0m",
            "\u001b[0;31mNameError\u001b[0m                                 Traceback (most recent call last)",
            "\u001b[0;32m<ipython-input-17-d83c0918f5c6>\u001b[0m in \u001b[0;36m<module>\u001b[0;34m()\u001b[0m\n\u001b[0;32m----> 1\u001b[0;31m \u001b[0mV_X\u001b[0m \u001b[0;34m+\u001b[0m \u001b[0mvariable_a\u001b[0m\u001b[0;34m\u001b[0m\u001b[0;34m\u001b[0m\u001b[0m\n\u001b[0m",
            "\u001b[0;31mNameError\u001b[0m: name 'V_X' is not defined"
          ]
        }
      ]
    },
    {
      "cell_type": "code",
      "metadata": {
        "id": "Lws0dfj28HiH"
      },
      "source": [
        "variable_a + V_X"
      ],
      "execution_count": null,
      "outputs": []
    },
    {
      "cell_type": "code",
      "metadata": {
        "id": "zYcN2xfw8LpB"
      },
      "source": [
        "V_X "
      ],
      "execution_count": null,
      "outputs": []
    },
    {
      "cell_type": "code",
      "metadata": {
        "colab": {
          "base_uri": "https://localhost:8080/",
          "height": 164
        },
        "id": "rEDBTPRX8llR",
        "outputId": "fe12964d-45d7-41d1-fdee-47d431be08dd"
      },
      "source": [
        "float(V_X)"
      ],
      "execution_count": 18,
      "outputs": [
        {
          "output_type": "error",
          "ename": "NameError",
          "evalue": "ignored",
          "traceback": [
            "\u001b[0;31m---------------------------------------------------------------------------\u001b[0m",
            "\u001b[0;31mNameError\u001b[0m                                 Traceback (most recent call last)",
            "\u001b[0;32m<ipython-input-18-b4c3ffb1c855>\u001b[0m in \u001b[0;36m<module>\u001b[0;34m()\u001b[0m\n\u001b[0;32m----> 1\u001b[0;31m \u001b[0mfloat\u001b[0m\u001b[0;34m(\u001b[0m\u001b[0mV_X\u001b[0m\u001b[0;34m)\u001b[0m\u001b[0;34m\u001b[0m\u001b[0;34m\u001b[0m\u001b[0m\n\u001b[0m",
            "\u001b[0;31mNameError\u001b[0m: name 'V_X' is not defined"
          ]
        }
      ]
    },
    {
      "cell_type": "markdown",
      "metadata": {
        "id": "wNxPjGp79DUl"
      },
      "source": [
        "## Data Structure\n",
        "### list()"
      ]
    },
    {
      "cell_type": "code",
      "metadata": {
        "id": "suwgFEOm80GT"
      },
      "source": [
        "list_a = [1,2,0.2,'abs' ]  # [ ] square brackets\n",
        "list_b = [2,'xyz',list_a,[1,2,0.0]]"
      ],
      "execution_count": 19,
      "outputs": []
    },
    {
      "cell_type": "code",
      "metadata": {
        "colab": {
          "base_uri": "https://localhost:8080/"
        },
        "id": "Xkd2roSh-Ely",
        "outputId": "fc12d1c3-964b-4942-b78d-7f2d3a30a048"
      },
      "source": [
        "list_a"
      ],
      "execution_count": 20,
      "outputs": [
        {
          "output_type": "execute_result",
          "data": {
            "text/plain": [
              "[1, 2, 0.2, 'abs']"
            ]
          },
          "metadata": {
            "tags": []
          },
          "execution_count": 20
        }
      ]
    },
    {
      "cell_type": "code",
      "metadata": {
        "colab": {
          "base_uri": "https://localhost:8080/"
        },
        "id": "wgG-cpY--Glb",
        "outputId": "0e0c6740-2502-417d-88ee-0498ffe0dcee"
      },
      "source": [
        "list_b"
      ],
      "execution_count": 21,
      "outputs": [
        {
          "output_type": "execute_result",
          "data": {
            "text/plain": [
              "[2, 'xyz', [1, 2, 0.2, 'abs'], [1, 2, 0.0]]"
            ]
          },
          "metadata": {
            "tags": []
          },
          "execution_count": 21
        }
      ]
    },
    {
      "cell_type": "code",
      "metadata": {
        "colab": {
          "base_uri": "https://localhost:8080/"
        },
        "id": "ky2JOPu_-c1q",
        "outputId": "382a7a82-6d28-45d3-80d3-3ac75a5d8cdd"
      },
      "source": [
        "len(list_b)   # ดูว่าใน list_b มีสมาชิกกี่ตัว"
      ],
      "execution_count": 22,
      "outputs": [
        {
          "output_type": "execute_result",
          "data": {
            "text/plain": [
              "4"
            ]
          },
          "metadata": {
            "tags": []
          },
          "execution_count": 22
        }
      ]
    },
    {
      "cell_type": "code",
      "metadata": {
        "colab": {
          "base_uri": "https://localhost:8080/"
        },
        "id": "KoG7FUtW-ghh",
        "outputId": "4949a53b-53a4-48da-f301-d887c5b9215b"
      },
      "source": [
        "list_b[3]"
      ],
      "execution_count": 23,
      "outputs": [
        {
          "output_type": "execute_result",
          "data": {
            "text/plain": [
              "[1, 2, 0.0]"
            ]
          },
          "metadata": {
            "tags": []
          },
          "execution_count": 23
        }
      ]
    },
    {
      "cell_type": "code",
      "metadata": {
        "colab": {
          "base_uri": "https://localhost:8080/"
        },
        "id": "yyaZE8nF-rjW",
        "outputId": "0fc61108-7cfa-4dec-a599-ebc8f5672e5a"
      },
      "source": [
        "list_b[3][1]"
      ],
      "execution_count": 24,
      "outputs": [
        {
          "output_type": "execute_result",
          "data": {
            "text/plain": [
              "2"
            ]
          },
          "metadata": {
            "tags": []
          },
          "execution_count": 24
        }
      ]
    },
    {
      "cell_type": "markdown",
      "metadata": {
        "id": "ZWvYUMdM_HvM"
      },
      "source": [
        "string คือ list ของตัวหนังสือ"
      ]
    },
    {
      "cell_type": "code",
      "metadata": {
        "id": "nPFdQnCj-z6S"
      },
      "source": [
        "a = 'Stat KKU'"
      ],
      "execution_count": 25,
      "outputs": []
    },
    {
      "cell_type": "code",
      "metadata": {
        "colab": {
          "base_uri": "https://localhost:8080/",
          "height": 34
        },
        "id": "vjsZpLAZ_RvJ",
        "outputId": "79724801-e750-41b6-d82b-0c8b81281c62"
      },
      "source": [
        "a[4]"
      ],
      "execution_count": 26,
      "outputs": [
        {
          "output_type": "execute_result",
          "data": {
            "application/vnd.google.colaboratory.intrinsic+json": {
              "type": "string"
            },
            "text/plain": [
              "' '"
            ]
          },
          "metadata": {
            "tags": []
          },
          "execution_count": 26
        }
      ]
    },
    {
      "cell_type": "markdown",
      "metadata": {
        "id": "e6sVKcOG_yUq"
      },
      "source": [
        "# วิธีการสร้าง list ว่าง"
      ]
    },
    {
      "cell_type": "code",
      "metadata": {
        "id": "PhWogOv7_VKS"
      },
      "source": [
        "list_c = list()  #แบบที่ 1\n",
        "list_d = []      #แบบที่ 2"
      ],
      "execution_count": 27,
      "outputs": []
    },
    {
      "cell_type": "code",
      "metadata": {
        "colab": {
          "base_uri": "https://localhost:8080/"
        },
        "id": "zTl8w5ByAFNp",
        "outputId": "5eb8327b-854e-41a6-e8b5-6b452a8e82de"
      },
      "source": [
        "list_c"
      ],
      "execution_count": 28,
      "outputs": [
        {
          "output_type": "execute_result",
          "data": {
            "text/plain": [
              "[]"
            ]
          },
          "metadata": {
            "tags": []
          },
          "execution_count": 28
        }
      ]
    },
    {
      "cell_type": "code",
      "metadata": {
        "colab": {
          "base_uri": "https://localhost:8080/"
        },
        "id": "pt_q-hjIAHCG",
        "outputId": "91a39e6f-f455-43eb-888d-9cc5d6d3779a"
      },
      "source": [
        "list_d"
      ],
      "execution_count": 29,
      "outputs": [
        {
          "output_type": "execute_result",
          "data": {
            "text/plain": [
              "[]"
            ]
          },
          "metadata": {
            "tags": []
          },
          "execution_count": 29
        }
      ]
    },
    {
      "cell_type": "markdown",
      "metadata": {
        "id": "OPTQMYoXAqil"
      },
      "source": [
        "- เติมค่าลงไปใน list (.append())"
      ]
    },
    {
      "cell_type": "code",
      "metadata": {
        "id": "X9-X0oiwAI-W"
      },
      "source": [
        "list_d.append('a')"
      ],
      "execution_count": 30,
      "outputs": []
    },
    {
      "cell_type": "code",
      "metadata": {
        "colab": {
          "base_uri": "https://localhost:8080/"
        },
        "id": "6Twl18WZA432",
        "outputId": "02ac017c-e011-494c-9265-dd91586bc8be"
      },
      "source": [
        "list_d"
      ],
      "execution_count": 31,
      "outputs": [
        {
          "output_type": "execute_result",
          "data": {
            "text/plain": [
              "['a']"
            ]
          },
          "metadata": {
            "tags": []
          },
          "execution_count": 31
        }
      ]
    },
    {
      "cell_type": "code",
      "metadata": {
        "id": "udpXQaMpA6Sm"
      },
      "source": [
        "list_d.append(56)"
      ],
      "execution_count": 32,
      "outputs": []
    },
    {
      "cell_type": "code",
      "metadata": {
        "colab": {
          "base_uri": "https://localhost:8080/"
        },
        "id": "G7ADR9VmBB5-",
        "outputId": "f270475a-2668-4dd7-a4f2-053e0c378ce0"
      },
      "source": [
        "list_d"
      ],
      "execution_count": 33,
      "outputs": [
        {
          "output_type": "execute_result",
          "data": {
            "text/plain": [
              "['a', 56]"
            ]
          },
          "metadata": {
            "tags": []
          },
          "execution_count": 33
        }
      ]
    },
    {
      "cell_type": "markdown",
      "metadata": {
        "id": "-grZqRNdBQw0"
      },
      "source": [
        "### การชี้ค่าใน list (indexing)\n",
        "\n",
        "1. ใช้ลำดับในการชี้\n",
        "2. ลำดับเริ่มจาก 0\n",
        "3. สามารถชี้จากข้างหลังได้โดยใช้ negative index"
      ]
    },
    {
      "cell_type": "code",
      "metadata": {
        "colab": {
          "base_uri": "https://localhost:8080/"
        },
        "id": "_HM9XWKTBDFy",
        "outputId": "ea97d398-0166-4c50-be0d-b6e01466525f"
      },
      "source": [
        "list_b"
      ],
      "execution_count": 34,
      "outputs": [
        {
          "output_type": "execute_result",
          "data": {
            "text/plain": [
              "[2, 'xyz', [1, 2, 0.2, 'abs'], [1, 2, 0.0]]"
            ]
          },
          "metadata": {
            "tags": []
          },
          "execution_count": 34
        }
      ]
    },
    {
      "cell_type": "code",
      "metadata": {
        "colab": {
          "base_uri": "https://localhost:8080/"
        },
        "id": "wR1Cq0wUBp4r",
        "outputId": "1b863ef9-f4e7-4bc9-ed24-20327b8d263f"
      },
      "source": [
        "list_b[-1]   #ชี้ค่าข้างหลังสุด"
      ],
      "execution_count": 35,
      "outputs": [
        {
          "output_type": "execute_result",
          "data": {
            "text/plain": [
              "[1, 2, 0.0]"
            ]
          },
          "metadata": {
            "tags": []
          },
          "execution_count": 35
        }
      ]
    },
    {
      "cell_type": "markdown",
      "metadata": {
        "id": "D810-ge9Cf07"
      },
      "source": [
        "## list slicing\n",
        "เราจะตัด list โดยเอาตั้งแต่ [ตัวหน้า: ตัวก่อนตัวหลัง] \\\n",
        "ถ้าเป็นสัญลักษณ์คณิตศาสตร์ [ตัวหน้า:ตัวหลัง] -> [ตัวหน้า,ตัวหลัง]"
      ]
    },
    {
      "cell_type": "code",
      "metadata": {
        "id": "wUVBJpzbBvif"
      },
      "source": [
        "list_ex = [1,2,3,5,6,8,-1,20,50,0]"
      ],
      "execution_count": 36,
      "outputs": []
    },
    {
      "cell_type": "code",
      "metadata": {
        "colab": {
          "base_uri": "https://localhost:8080/"
        },
        "id": "K_4gog6dCtWr",
        "outputId": "98508493-2d34-4984-fcec-04ffd5867d81"
      },
      "source": [
        "list_ex[1:6]   # : สัญลักษณ์ของ slicing\n",
        "                   # เราจะตัด list โดยเอาตั้งแต่ [ตัวหน้า: ตัวก่อนตัวหลัง]"
      ],
      "execution_count": 37,
      "outputs": [
        {
          "output_type": "execute_result",
          "data": {
            "text/plain": [
              "[2, 3, 5, 6, 8]"
            ]
          },
          "metadata": {
            "tags": []
          },
          "execution_count": 37
        }
      ]
    },
    {
      "cell_type": "code",
      "metadata": {
        "colab": {
          "base_uri": "https://localhost:8080/"
        },
        "id": "c3BUCFLxCxhZ",
        "outputId": "4b487745-ac6e-4436-d940-6eef7b1ca161"
      },
      "source": [
        "list_ex[4:]"
      ],
      "execution_count": 38,
      "outputs": [
        {
          "output_type": "execute_result",
          "data": {
            "text/plain": [
              "[6, 8, -1, 20, 50, 0]"
            ]
          },
          "metadata": {
            "tags": []
          },
          "execution_count": 38
        }
      ]
    },
    {
      "cell_type": "code",
      "metadata": {
        "colab": {
          "base_uri": "https://localhost:8080/"
        },
        "id": "hZPhkTHED0mW",
        "outputId": "c58b38e9-3f43-43b4-d20d-0a344a772e88"
      },
      "source": [
        "list_ex[:6]"
      ],
      "execution_count": 39,
      "outputs": [
        {
          "output_type": "execute_result",
          "data": {
            "text/plain": [
              "[1, 2, 3, 5, 6, 8]"
            ]
          },
          "metadata": {
            "tags": []
          },
          "execution_count": 39
        }
      ]
    },
    {
      "cell_type": "markdown",
      "metadata": {
        "id": "3mqrONrlEVdF"
      },
      "source": [
        "[จุดเริ่มต้น:จุดสุดท้าย:step] "
      ]
    },
    {
      "cell_type": "code",
      "metadata": {
        "colab": {
          "base_uri": "https://localhost:8080/"
        },
        "id": "hCerGIGbEibK",
        "outputId": "f86b03e0-1c45-4c74-9df4-5df9ea7f0559"
      },
      "source": [
        "list_ex"
      ],
      "execution_count": 40,
      "outputs": [
        {
          "output_type": "execute_result",
          "data": {
            "text/plain": [
              "[1, 2, 3, 5, 6, 8, -1, 20, 50, 0]"
            ]
          },
          "metadata": {
            "tags": []
          },
          "execution_count": 40
        }
      ]
    },
    {
      "cell_type": "code",
      "metadata": {
        "colab": {
          "base_uri": "https://localhost:8080/"
        },
        "id": "5BWqPpubD3PQ",
        "outputId": "fe400a74-8391-45b6-d9ea-46cb2e7559dc"
      },
      "source": [
        "list_ex[::2]"
      ],
      "execution_count": 41,
      "outputs": [
        {
          "output_type": "execute_result",
          "data": {
            "text/plain": [
              "[1, 3, 6, -1, 50]"
            ]
          },
          "metadata": {
            "tags": []
          },
          "execution_count": 41
        }
      ]
    },
    {
      "cell_type": "code",
      "metadata": {
        "colab": {
          "base_uri": "https://localhost:8080/"
        },
        "id": "dQ4s-D_NEU61",
        "outputId": "7f5d56fc-cdc8-4397-96f8-a1301bf2dcd3"
      },
      "source": [
        "list_ex[::-1]   # การกลับ list จากหลังมาหน้า จากหน้ามาหลัง"
      ],
      "execution_count": 42,
      "outputs": [
        {
          "output_type": "execute_result",
          "data": {
            "text/plain": [
              "[0, 50, 20, -1, 8, 6, 5, 3, 2, 1]"
            ]
          },
          "metadata": {
            "tags": []
          },
          "execution_count": 42
        }
      ]
    },
    {
      "cell_type": "code",
      "metadata": {
        "colab": {
          "base_uri": "https://localhost:8080/",
          "height": 34
        },
        "id": "pC56sXEyE41D",
        "outputId": "e3a95ca2-4241-4c1d-9952-34eb48a9a6d5"
      },
      "source": [
        "a"
      ],
      "execution_count": 43,
      "outputs": [
        {
          "output_type": "execute_result",
          "data": {
            "application/vnd.google.colaboratory.intrinsic+json": {
              "type": "string"
            },
            "text/plain": [
              "'Stat KKU'"
            ]
          },
          "metadata": {
            "tags": []
          },
          "execution_count": 43
        }
      ]
    },
    {
      "cell_type": "code",
      "metadata": {
        "colab": {
          "base_uri": "https://localhost:8080/",
          "height": 34
        },
        "id": "iIfRpqA3FOG2",
        "outputId": "be921a0d-f17b-4947-eb3f-5a2600926eb0"
      },
      "source": [
        "a[5:]"
      ],
      "execution_count": 44,
      "outputs": [
        {
          "output_type": "execute_result",
          "data": {
            "application/vnd.google.colaboratory.intrinsic+json": {
              "type": "string"
            },
            "text/plain": [
              "'KKU'"
            ]
          },
          "metadata": {
            "tags": []
          },
          "execution_count": 44
        }
      ]
    },
    {
      "cell_type": "code",
      "metadata": {
        "colab": {
          "base_uri": "https://localhost:8080/",
          "height": 34
        },
        "id": "XMxKOX5DFThs",
        "outputId": "39fe9a21-522c-450d-d613-1b4dc2d9bc71"
      },
      "source": [
        "a[-3:]"
      ],
      "execution_count": 45,
      "outputs": [
        {
          "output_type": "execute_result",
          "data": {
            "application/vnd.google.colaboratory.intrinsic+json": {
              "type": "string"
            },
            "text/plain": [
              "'KKU'"
            ]
          },
          "metadata": {
            "tags": []
          },
          "execution_count": 45
        }
      ]
    },
    {
      "cell_type": "code",
      "metadata": {
        "colab": {
          "base_uri": "https://localhost:8080/",
          "height": 34
        },
        "id": "UDcU0K3ZGDsM",
        "outputId": "97f7c2af-a10e-451f-cc14-2c700522e954"
      },
      "source": [
        "a[5:8]"
      ],
      "execution_count": 46,
      "outputs": [
        {
          "output_type": "execute_result",
          "data": {
            "application/vnd.google.colaboratory.intrinsic+json": {
              "type": "string"
            },
            "text/plain": [
              "'KKU'"
            ]
          },
          "metadata": {
            "tags": []
          },
          "execution_count": 46
        }
      ]
    },
    {
      "cell_type": "code",
      "metadata": {
        "colab": {
          "base_uri": "https://localhost:8080/",
          "height": 34
        },
        "id": "FBFDFlAIGKnP",
        "outputId": "df651cfc-bda1-42aa-a3b2-9df37523bf64"
      },
      "source": [
        "a[5::]"
      ],
      "execution_count": 47,
      "outputs": [
        {
          "output_type": "execute_result",
          "data": {
            "application/vnd.google.colaboratory.intrinsic+json": {
              "type": "string"
            },
            "text/plain": [
              "'KKU'"
            ]
          },
          "metadata": {
            "tags": []
          },
          "execution_count": 47
        }
      ]
    },
    {
      "cell_type": "code",
      "metadata": {
        "colab": {
          "base_uri": "https://localhost:8080/",
          "height": 34
        },
        "id": "uSo_fF56GVXF",
        "outputId": "1eb652c2-f76c-4efa-ab75-c9ee2013dfc3"
      },
      "source": [
        "a[-3::]"
      ],
      "execution_count": 48,
      "outputs": [
        {
          "output_type": "execute_result",
          "data": {
            "application/vnd.google.colaboratory.intrinsic+json": {
              "type": "string"
            },
            "text/plain": [
              "'KKU'"
            ]
          },
          "metadata": {
            "tags": []
          },
          "execution_count": 48
        }
      ]
    },
    {
      "cell_type": "code",
      "metadata": {
        "colab": {
          "base_uri": "https://localhost:8080/",
          "height": 34
        },
        "id": "nWFTtFMoGix1",
        "outputId": "788b33e5-fd6c-40ca-824d-9faf30d75f71"
      },
      "source": [
        "a[-3::1]"
      ],
      "execution_count": 49,
      "outputs": [
        {
          "output_type": "execute_result",
          "data": {
            "application/vnd.google.colaboratory.intrinsic+json": {
              "type": "string"
            },
            "text/plain": [
              "'KKU'"
            ]
          },
          "metadata": {
            "tags": []
          },
          "execution_count": 49
        }
      ]
    },
    {
      "cell_type": "markdown",
      "metadata": {
        "id": "mGMQnjyPG5To"
      },
      "source": [
        "### list + list"
      ]
    },
    {
      "cell_type": "code",
      "metadata": {
        "colab": {
          "base_uri": "https://localhost:8080/"
        },
        "id": "_O-rjuTtHG6p",
        "outputId": "a4d1e4d9-68db-4a04-d161-9255e4edb9c4"
      },
      "source": [
        "print(list_a)\n",
        "print(list_b)"
      ],
      "execution_count": 50,
      "outputs": [
        {
          "output_type": "stream",
          "text": [
            "[1, 2, 0.2, 'abs']\n",
            "[2, 'xyz', [1, 2, 0.2, 'abs'], [1, 2, 0.0]]\n"
          ],
          "name": "stdout"
        }
      ]
    },
    {
      "cell_type": "code",
      "metadata": {
        "colab": {
          "base_uri": "https://localhost:8080/"
        },
        "id": "AZl5HAnSGtFY",
        "outputId": "ff3a75ff-21fb-4b93-8e0f-771a172bbf62"
      },
      "source": [
        "list_a + list_b"
      ],
      "execution_count": 51,
      "outputs": [
        {
          "output_type": "execute_result",
          "data": {
            "text/plain": [
              "[1, 2, 0.2, 'abs', 2, 'xyz', [1, 2, 0.2, 'abs'], [1, 2, 0.0]]"
            ]
          },
          "metadata": {
            "tags": []
          },
          "execution_count": 51
        }
      ]
    },
    {
      "cell_type": "markdown",
      "metadata": {
        "id": "UFTwtmavLbpQ"
      },
      "source": [
        "format string "
      ]
    },
    {
      "cell_type": "markdown",
      "metadata": {
        "id": "ENAfUhm0MFM3"
      },
      "source": [
        "```python\n",
        "f 'string{ตัวแปร}'\n",
        "```\n",
        "\n"
      ]
    },
    {
      "cell_type": "code",
      "metadata": {
        "colab": {
          "base_uri": "https://localhost:8080/",
          "height": 34
        },
        "id": "oKswhPdVLgEZ",
        "outputId": "a55fa015-1159-4656-ee01-9036a9d99ef2"
      },
      "source": [
        "f'ตัวแปร list_a มีค่าคือ {list_a}'"
      ],
      "execution_count": 52,
      "outputs": [
        {
          "output_type": "execute_result",
          "data": {
            "application/vnd.google.colaboratory.intrinsic+json": {
              "type": "string"
            },
            "text/plain": [
              "\"ตัวแปร list_a มีค่าคือ [1, 2, 0.2, 'abs']\""
            ]
          },
          "metadata": {
            "tags": []
          },
          "execution_count": 52
        }
      ]
    },
    {
      "cell_type": "code",
      "metadata": {
        "colab": {
          "base_uri": "https://localhost:8080/",
          "height": 34
        },
        "id": "zsC6XPZTL3yF",
        "outputId": "a8e64cfb-e723-424f-978a-3e84fb554b8a"
      },
      "source": [
        "f'ตัวแปร list_ex มีค่าคือ {list_ex}'"
      ],
      "execution_count": 53,
      "outputs": [
        {
          "output_type": "execute_result",
          "data": {
            "application/vnd.google.colaboratory.intrinsic+json": {
              "type": "string"
            },
            "text/plain": [
              "'ตัวแปร list_ex มีค่าคือ [1, 2, 3, 5, 6, 8, -1, 20, 50, 0]'"
            ]
          },
          "metadata": {
            "tags": []
          },
          "execution_count": 53
        }
      ]
    },
    {
      "cell_type": "markdown",
      "metadata": {
        "id": "_cXnmp5cHp97"
      },
      "source": [
        "# Loop"
      ]
    },
    {
      "cell_type": "markdown",
      "metadata": {
        "id": "9C3P4kS2B3Di"
      },
      "source": [
        "ทำงานซ้ำๆ หรือ ทำงานคล้ายๆกัน"
      ]
    },
    {
      "cell_type": "markdown",
      "metadata": {
        "id": "K7hYeRcHKkyR"
      },
      "source": [
        "indent\n",
        "```python\n",
        "for ตัวแปรที่จะรับค่าจาก list in list: ลิสต์ที่จะนำมาวนลูป: \n",
        "     do something  #in loop\n",
        "     do another thing   #in loop\n",
        "\n",
        "do snother things  # out side loop\n",
        "```\n",
        "\n"
      ]
    },
    {
      "cell_type": "code",
      "metadata": {
        "colab": {
          "base_uri": "https://localhost:8080/"
        },
        "id": "SQV6b_m-JzU7",
        "outputId": "956c021f-7858-44cb-b8b4-82f144acecc3"
      },
      "source": [
        "for i in [1,2,3,4,5]:\n",
        "     print(i+1)"
      ],
      "execution_count": 54,
      "outputs": [
        {
          "output_type": "stream",
          "text": [
            "2\n",
            "3\n",
            "4\n",
            "5\n",
            "6\n"
          ],
          "name": "stdout"
        }
      ]
    },
    {
      "cell_type": "code",
      "metadata": {
        "colab": {
          "base_uri": "https://localhost:8080/"
        },
        "id": "hJGWZdgIMjkc",
        "outputId": "d3448116-3123-4807-d225-a00fcfd43862"
      },
      "source": [
        "for x in [1,2,3,4,5]:\n",
        "     print(f'ค่าตัวแปร x คือ {x} และ x+2={x+2}')"
      ],
      "execution_count": 55,
      "outputs": [
        {
          "output_type": "stream",
          "text": [
            "ค่าตัวแปร x คือ 1 และ x+2=3\n",
            "ค่าตัวแปร x คือ 2 และ x+2=4\n",
            "ค่าตัวแปร x คือ 3 และ x+2=5\n",
            "ค่าตัวแปร x คือ 4 และ x+2=6\n",
            "ค่าตัวแปร x คือ 5 และ x+2=7\n"
          ],
          "name": "stdout"
        }
      ]
    },
    {
      "cell_type": "code",
      "metadata": {
        "colab": {
          "base_uri": "https://localhost:8080/"
        },
        "id": "ixhFCGAVNCfl",
        "outputId": "4330efd0-7176-46ad-9482-e386b21f9768"
      },
      "source": [
        "list5=[1,2,3,4,5]\n",
        "for x in list5:\n",
        "     print(f'ค่าตัวแปร x คือ {x} และ x+2={x+2}')"
      ],
      "execution_count": 56,
      "outputs": [
        {
          "output_type": "stream",
          "text": [
            "ค่าตัวแปร x คือ 1 และ x+2=3\n",
            "ค่าตัวแปร x คือ 2 และ x+2=4\n",
            "ค่าตัวแปร x คือ 3 และ x+2=5\n",
            "ค่าตัวแปร x คือ 4 และ x+2=6\n",
            "ค่าตัวแปร x คือ 5 และ x+2=7\n"
          ],
          "name": "stdout"
        }
      ]
    },
    {
      "cell_type": "code",
      "metadata": {
        "colab": {
          "base_uri": "https://localhost:8080/"
        },
        "id": "srGZBZoINOzB",
        "outputId": "ddc4143b-e601-42ee-8e94-914bd27c10c3"
      },
      "source": [
        "list(range(10))"
      ],
      "execution_count": 57,
      "outputs": [
        {
          "output_type": "execute_result",
          "data": {
            "text/plain": [
              "[0, 1, 2, 3, 4, 5, 6, 7, 8, 9]"
            ]
          },
          "metadata": {
            "tags": []
          },
          "execution_count": 57
        }
      ]
    },
    {
      "cell_type": "code",
      "metadata": {
        "colab": {
          "base_uri": "https://localhost:8080/"
        },
        "id": "ziaWWIY0Nh-0",
        "outputId": "31728214-ab51-443a-e303-80e1159fe8db"
      },
      "source": [
        "for i in range(2,7):\n",
        "     print(i)"
      ],
      "execution_count": 58,
      "outputs": [
        {
          "output_type": "stream",
          "text": [
            "2\n",
            "3\n",
            "4\n",
            "5\n",
            "6\n"
          ],
          "name": "stdout"
        }
      ]
    },
    {
      "cell_type": "code",
      "metadata": {
        "colab": {
          "base_uri": "https://localhost:8080/"
        },
        "id": "SyTC0cULOGb8",
        "outputId": "37476ee8-79ce-4366-f376-08761e80d447"
      },
      "source": [
        "for i in range(2,7,2):\n",
        "     print(i)"
      ],
      "execution_count": 59,
      "outputs": [
        {
          "output_type": "stream",
          "text": [
            "2\n",
            "4\n",
            "6\n"
          ],
          "name": "stdout"
        }
      ]
    },
    {
      "cell_type": "code",
      "metadata": {
        "colab": {
          "base_uri": "https://localhost:8080/"
        },
        "id": "yJUu1-IlOeoW",
        "outputId": "948cf780-e764-424d-c7e7-a1aac345ab6f"
      },
      "source": [
        "for i in range(5):\n",
        "     print('hahaha')"
      ],
      "execution_count": 60,
      "outputs": [
        {
          "output_type": "stream",
          "text": [
            "hahaha\n",
            "hahaha\n",
            "hahaha\n",
            "hahaha\n",
            "hahaha\n"
          ],
          "name": "stdout"
        }
      ]
    },
    {
      "cell_type": "code",
      "metadata": {
        "colab": {
          "base_uri": "https://localhost:8080/"
        },
        "id": "yGMtuC51OtcU",
        "outputId": "131ce946-afbd-4fe6-95a9-b6fceff6c941"
      },
      "source": [
        "for i in range(5):\n",
        "     print('hahaha')\n",
        "     x = i + 3\n",
        "     print(f'i={i} x={x}')"
      ],
      "execution_count": 61,
      "outputs": [
        {
          "output_type": "stream",
          "text": [
            "hahaha\n",
            "i=0 x=3\n",
            "hahaha\n",
            "i=1 x=4\n",
            "hahaha\n",
            "i=2 x=5\n",
            "hahaha\n",
            "i=3 x=6\n",
            "hahaha\n",
            "i=4 x=7\n"
          ],
          "name": "stdout"
        }
      ]
    },
    {
      "cell_type": "markdown",
      "metadata": {
        "id": "5Wfkj44lPPeG"
      },
      "source": [
        "## Nested loop\n",
        "\n",
        "loopซ้อนloop"
      ]
    },
    {
      "cell_type": "code",
      "metadata": {
        "colab": {
          "base_uri": "https://localhost:8080/"
        },
        "id": "dHdj9gcePOTF",
        "outputId": "8e954956-a6a0-407f-f80b-4ff466a259d9"
      },
      "source": [
        "for i in range(3):\n",
        "     print(f' now i = {i}')\n",
        "     print('start j loop')\n",
        "     for j in range(4):\n",
        "          print(f'i={i} j={j} i+j={i+j}')\n",
        "     print('end j loop')"
      ],
      "execution_count": 62,
      "outputs": [
        {
          "output_type": "stream",
          "text": [
            " now i = 0\n",
            "start j loop\n",
            "i=0 j=0 i+j=0\n",
            "i=0 j=1 i+j=1\n",
            "i=0 j=2 i+j=2\n",
            "i=0 j=3 i+j=3\n",
            "end j loop\n",
            " now i = 1\n",
            "start j loop\n",
            "i=1 j=0 i+j=1\n",
            "i=1 j=1 i+j=2\n",
            "i=1 j=2 i+j=3\n",
            "i=1 j=3 i+j=4\n",
            "end j loop\n",
            " now i = 2\n",
            "start j loop\n",
            "i=2 j=0 i+j=2\n",
            "i=2 j=1 i+j=3\n",
            "i=2 j=2 i+j=4\n",
            "i=2 j=3 i+j=5\n",
            "end j loop\n"
          ],
          "name": "stdout"
        }
      ]
    },
    {
      "cell_type": "markdown",
      "metadata": {
        "id": "0amX_0qqHsug"
      },
      "source": [
        "## Condition (if statement)\n"
      ]
    },
    {
      "cell_type": "markdown",
      "metadata": {
        "id": "dzwjsZt2FpfW"
      },
      "source": [
        "``` python\n",
        "if เงื่อนไขที่จะตรวจสอบ (โดยใช้สัญลักษณ์ ==,!=,<,>,<=,>=):\n",
        "    ถ้าเงื่อนไขเป็นจริง ทำงาน 1\n",
        "    ถ้าเงื่อนไขเป็นจริง ทไงาน 2\n",
        "```\n",
        "\n"
      ]
    },
    {
      "cell_type": "code",
      "metadata": {
        "colab": {
          "base_uri": "https://localhost:8080/"
        },
        "id": "2_uFd9viGNCO",
        "outputId": "e525fcf1-967b-4a81-cf9b-e36c7fe34cda"
      },
      "source": [
        "stringx = 'nonttanont taont916 looooooovvvvveeeeee'\n",
        "\n",
        "if len(stringx) > 30:\n",
        "    print(f'{stringx} is longer than 30 characters')"
      ],
      "execution_count": 63,
      "outputs": [
        {
          "output_type": "stream",
          "text": [
            "nonttanont taont916 looooooovvvvveeeeee is longer than 30 characters\n"
          ],
          "name": "stdout"
        }
      ]
    },
    {
      "cell_type": "code",
      "metadata": {
        "id": "rvOY_e2_HQ8L"
      },
      "source": [
        "stringx = 'nonttanont taont916 looooooovvvvveeeeee'\n",
        "\n",
        "if len(stringx) > 100:\n",
        "    print(f'{stringx} is longer than 30 characters')"
      ],
      "execution_count": 64,
      "outputs": []
    },
    {
      "cell_type": "markdown",
      "metadata": {
        "id": "yqEl-pQuHqIo"
      },
      "source": [
        "``` python\n",
        "if เงื่อนไขที่จะตรวจสอบ (โดยใช้สัญลักษณ์ ==,!=,<,>,<=,>=):\n",
        "    ถ้าเงื่อนไขเป็นจริง ทำงาน 1\n",
        "    ถ้าเงื่อนไขเป็นจริง ทไงาน 2\n",
        "else: #ตรวจสอบเงื่อนไขข้างบนแล้วไม่เป็นจริง\n",
        "      ทำงานที่ x \n",
        "```\n"
      ]
    },
    {
      "cell_type": "code",
      "metadata": {
        "colab": {
          "base_uri": "https://localhost:8080/"
        },
        "id": "p5SarDaeIEOi",
        "outputId": "efac5ee7-29ba-48c8-dfd7-ba3c686ceaec"
      },
      "source": [
        "stringx = 'nonttanont taont916 looooooovvvvveeeeee'\n",
        "\n",
        "if len(stringx) > 100:\n",
        "    print(f'{stringx} is longer than 30 characters')\n",
        "else:\n",
        "      print(f'{stringx} in {len(stringx)} characters long')    #ถ้าไม่มากกว่า100 ให้แสดงว่ามีเท่าไหร่"
      ],
      "execution_count": 65,
      "outputs": [
        {
          "output_type": "stream",
          "text": [
            "nonttanont taont916 looooooovvvvveeeeee in 39 characters long\n"
          ],
          "name": "stdout"
        }
      ]
    },
    {
      "cell_type": "markdown",
      "metadata": {
        "id": "sYAWYfg5JxJo"
      },
      "source": [
        "``` python\n",
        "if เงื่อนไขที่จะตรวจสอบ (โดยใช้สัญลักษณ์ ==,!=,<,>,<=,>=):\n",
        "    ถ้าเงื่อนไขเป็นจริง ทำงาน 1\n",
        "    ถ้าเงื่อนไขเป็นจริง ทำงาน 2\n",
        "elif  เงื่อนไขที่จะตรวจสอบต่อไปถ้าเงื่อนไขข้างบนไม่เป็นจริง:\n",
        "     ถ้าเงื่อนไขเป็นจริง ทำงานที่ a1\n",
        "     ถ้าเงื่อนไขเป็นจริง ทำงานที่ a2\n",
        "elif  เงื่อนไขที่จะตรวจสอบต่อไปถ้าเงื่อนไขข้างบนไม่เป็นจริง:\n",
        "     ถ้าเงื่อนไขเป็นจริง ทำงานที่ b1\n",
        "     ถ้าเงื่อนไขเป็นจริง ทำงานที่ b2\n",
        "else: #ตรวจสอบเงื่อนไขข้างบนแล้วไม่เป็นจริง\n",
        "      ทำงานที่ x \n",
        "```"
      ]
    },
    {
      "cell_type": "code",
      "metadata": {
        "colab": {
          "base_uri": "https://localhost:8080/"
        },
        "id": "pL9iHuOfK--W",
        "outputId": "582e176f-fd3c-4f40-aadc-ecd466313e59"
      },
      "source": [
        "password = '12345'\n",
        "\n",
        "input_pass = '123sf'\n",
        "if input_pass == password:\n",
        "    print('Welcome!')\n",
        "elif len(input_pass) > len(password):\n",
        "    print('Too long, try again!')\n",
        "elif len(input_pass) < len(password):\n",
        "    print('Too short, try again!')\n",
        "else:\n",
        "    print('Wrong password, try again!') "
      ],
      "execution_count": 66,
      "outputs": [
        {
          "output_type": "stream",
          "text": [
            "Wrong password, try again!\n"
          ],
          "name": "stdout"
        }
      ]
    },
    {
      "cell_type": "markdown",
      "metadata": {
        "id": "SB1puNaFLI1c"
      },
      "source": [
        "Quiz 1 หา min"
      ]
    },
    {
      "cell_type": "code",
      "metadata": {
        "id": "qvs91nWEN9Lu"
      },
      "source": [
        "list_ex = [1,5,9,-19,-2,0]   #หาค่าน้อยที่สุดใน list_ex โดยไม่ใช้ function min (commit ก่อน 10.30 : Quiz1)"
      ],
      "execution_count": 67,
      "outputs": []
    },
    {
      "cell_type": "code",
      "metadata": {
        "colab": {
          "base_uri": "https://localhost:8080/"
        },
        "id": "85EpQFkNO3uh",
        "outputId": "4ee7aa1b-b249-474f-b2ee-ca320f8e85af"
      },
      "source": [
        "list_ex[3:4:2]"
      ],
      "execution_count": 68,
      "outputs": [
        {
          "output_type": "execute_result",
          "data": {
            "text/plain": [
              "[-19]"
            ]
          },
          "metadata": {
            "tags": []
          },
          "execution_count": 68
        }
      ]
    },
    {
      "cell_type": "code",
      "metadata": {
        "colab": {
          "base_uri": "https://localhost:8080/"
        },
        "id": "dPVkxPrqSntM",
        "outputId": "fab7eea9-e0d2-41c7-c9a9-62708b514ff8"
      },
      "source": [
        "# เฉลย\n",
        "min = 1000000  #ตั้งค่าไว้ก่อนให้เยอะๆ\n",
        "\n",
        "for i in list_ex:   #วนเข้าไปดูตัวที่น้อยสุด\n",
        "     if i < min:\n",
        "         min = i\n",
        "print(min)"
      ],
      "execution_count": 69,
      "outputs": [
        {
          "output_type": "stream",
          "text": [
            "-19\n"
          ],
          "name": "stdout"
        }
      ]
    },
    {
      "cell_type": "code",
      "metadata": {
        "colab": {
          "base_uri": "https://localhost:8080/"
        },
        "id": "_V-fkez2UP0j",
        "outputId": "5aa2a8f1-61f6-4ad9-b2a7-d9a47a1f7cf9"
      },
      "source": [
        "min = 1000000  #ตั้งค่าไว้ก่อนให้เยอะๆ\n",
        "print(list_ex)\n",
        "for i in list_ex:   #วนเข้าไปดูตัวที่น้อยสุด\n",
        "     print(f'now i = {i}, min = {min}')\n",
        "     print('start condition')\n",
        "     if i < min:\n",
        "        print(f'i < min, update min -> {i}')\n",
        "        min = i\n",
        "     else:\n",
        "          print('not update')\n",
        "     print('end condition, go to next i')\n",
        "\n",
        "print(min)"
      ],
      "execution_count": 70,
      "outputs": [
        {
          "output_type": "stream",
          "text": [
            "[1, 5, 9, -19, -2, 0]\n",
            "now i = 1, min = 1000000\n",
            "start condition\n",
            "i < min, update min -> 1\n",
            "end condition, go to next i\n",
            "now i = 5, min = 1\n",
            "start condition\n",
            "not update\n",
            "end condition, go to next i\n",
            "now i = 9, min = 1\n",
            "start condition\n",
            "not update\n",
            "end condition, go to next i\n",
            "now i = -19, min = 1\n",
            "start condition\n",
            "i < min, update min -> -19\n",
            "end condition, go to next i\n",
            "now i = -2, min = -19\n",
            "start condition\n",
            "not update\n",
            "end condition, go to next i\n",
            "now i = 0, min = -19\n",
            "start condition\n",
            "not update\n",
            "end condition, go to next i\n",
            "-19\n"
          ],
          "name": "stdout"
        }
      ]
    },
    {
      "cell_type": "markdown",
      "metadata": {
        "id": "alljvCvZLNs9"
      },
      "source": [
        "HW 2 ตัดเกรด"
      ]
    },
    {
      "cell_type": "code",
      "metadata": {
        "id": "NFvPC6COTp4q"
      },
      "source": [
        "score = [49,65,70,95,82,55,89,20,77,77,81,59,10]   #ตัดเกรด คะแนนใน list score (ใช้ if กับ for)"
      ],
      "execution_count": 71,
      "outputs": []
    },
    {
      "cell_type": "code",
      "metadata": {
        "id": "aLDsntgcNth3",
        "outputId": "53579d10-8cd8-4b76-9904-aff93a82bdeb",
        "colab": {
          "base_uri": "https://localhost:8080/"
        }
      },
      "source": [
        "print(score)\n",
        "for i in score:\n",
        "   if  i  >= 80:\n",
        "       print('grade \"A\" ')\n",
        "   elif  i  >= 75:\n",
        "         print('grade \"B+\" ')\n",
        "   elif  i  >= 70:\n",
        "         print('grade \"B\" ')\n",
        "   elif  i  >= 65:\n",
        "         print('grade \"C+\" ')\n",
        "   elif  i  >= 60:\n",
        "         print('grade \"C\" ')\n",
        "   elif  i  >= 55:\n",
        "         print('grade \"B+\" ')\n",
        "   elif  i  >= 50:\n",
        "         print('grade \"B\" ') \n",
        "   else:\n",
        "         print('grade \"F\" ')"
      ],
      "execution_count": 74,
      "outputs": [
        {
          "output_type": "stream",
          "text": [
            "[49, 65, 70, 95, 82, 55, 89, 20, 77, 77, 81, 59, 10]\n",
            "grade \"F\" \n",
            "grade \"C+\" \n",
            "grade \"B\" \n",
            "grade \"A\" \n",
            "grade \"A\" \n",
            "grade \"B+\" \n",
            "grade \"A\" \n",
            "grade \"F\" \n",
            "grade \"B+\" \n",
            "grade \"B+\" \n",
            "grade \"A\" \n",
            "grade \"B+\" \n",
            "grade \"F\" \n"
          ],
          "name": "stdout"
        }
      ]
    },
    {
      "cell_type": "markdown",
      "metadata": {
        "id": "ETrryAwdFl88"
      },
      "source": [
        "## Function"
      ]
    },
    {
      "cell_type": "code",
      "metadata": {
        "id": "0IU-zFTHHC6J"
      },
      "source": [
        ""
      ],
      "execution_count": 71,
      "outputs": []
    }
  ]
}